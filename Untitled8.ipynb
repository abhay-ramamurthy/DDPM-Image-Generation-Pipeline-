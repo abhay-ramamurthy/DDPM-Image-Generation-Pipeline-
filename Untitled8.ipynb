{
  "cells": [
    {
      "cell_type": "code",
      "execution_count": null,
      "metadata": {
        "colab": {
          "background_save": true,
          "base_uri": "https://localhost:8080/"
        },
        "id": "mvtskQsml2q9",
        "outputId": "e3ce0a65-ed83-422e-a113-7da0912874e8"
      },
      "outputs": [
        {
          "name": "stdout",
          "output_type": "stream",
          "text": [
            "Using mixed precision training\n"
          ]
        },
        {
          "name": "stderr",
          "output_type": "stream",
          "text": [
            "100%|██████████| 170M/170M [00:02<00:00, 75.5MB/s]\n",
            "Epoch 1/200: 100%|██████████| 98/98 [00:11<00:00,  8.39it/s, loss=0.967, lr=1e-5]\n"
          ]
        },
        {
          "name": "stdout",
          "output_type": "stream",
          "text": [
            "Checkpoint saved to diffusion_best_model.pt\n",
            "New best model saved with loss: 0.967425\n",
            "Checkpoint saved to diffusion_checkpoint.pt\n"
          ]
        },
        {
          "name": "stderr",
          "output_type": "stream",
          "text": [
            "Epoch 2/200: 100%|██████████| 98/98 [00:10<00:00,  9.74it/s, loss=0.438, lr=2e-5]\n"
          ]
        },
        {
          "name": "stdout",
          "output_type": "stream",
          "text": [
            "Checkpoint saved to diffusion_best_model.pt\n",
            "New best model saved with loss: 0.438193\n",
            "Checkpoint saved to diffusion_checkpoint.pt\n"
          ]
        },
        {
          "name": "stderr",
          "output_type": "stream",
          "text": [
            "Epoch 3/200: 100%|██████████| 98/98 [00:10<00:00,  9.73it/s, loss=0.164, lr=3e-5]\n"
          ]
        },
        {
          "name": "stdout",
          "output_type": "stream",
          "text": [
            "Checkpoint saved to diffusion_best_model.pt\n",
            "New best model saved with loss: 0.164149\n",
            "Checkpoint saved to diffusion_checkpoint.pt\n"
          ]
        },
        {
          "name": "stderr",
          "output_type": "stream",
          "text": [
            "Epoch 4/200: 100%|██████████| 98/98 [00:10<00:00,  9.72it/s, loss=0.114, lr=4e-5]\n"
          ]
        },
        {
          "name": "stdout",
          "output_type": "stream",
          "text": [
            "Checkpoint saved to diffusion_best_model.pt\n",
            "New best model saved with loss: 0.114455\n",
            "Checkpoint saved to diffusion_checkpoint.pt\n"
          ]
        },
        {
          "name": "stderr",
          "output_type": "stream",
          "text": [
            "Epoch 5/200: 100%|██████████| 98/98 [00:10<00:00,  9.74it/s, loss=0.0901, lr=5e-5]\n"
          ]
        },
        {
          "name": "stdout",
          "output_type": "stream",
          "text": [
            "Checkpoint saved to diffusion_best_model.pt\n",
            "New best model saved with loss: 0.090100\n",
            "Checkpoint saved to diffusion_checkpoint.pt\n"
          ]
        },
        {
          "name": "stderr",
          "output_type": "stream",
          "text": [
            "Epoch 6/200: 100%|██████████| 98/98 [00:10<00:00,  9.74it/s, loss=0.0746, lr=6e-5]\n"
          ]
        },
        {
          "name": "stdout",
          "output_type": "stream",
          "text": [
            "Checkpoint saved to diffusion_best_model.pt\n",
            "New best model saved with loss: 0.074604\n",
            "Checkpoint saved to diffusion_checkpoint.pt\n"
          ]
        },
        {
          "name": "stderr",
          "output_type": "stream",
          "text": [
            "Epoch 7/200: 100%|██████████| 98/98 [00:10<00:00,  9.72it/s, loss=0.0655, lr=7e-5]\n"
          ]
        },
        {
          "name": "stdout",
          "output_type": "stream",
          "text": [
            "Checkpoint saved to diffusion_best_model.pt\n",
            "New best model saved with loss: 0.065502\n",
            "Checkpoint saved to diffusion_checkpoint.pt\n"
          ]
        },
        {
          "name": "stderr",
          "output_type": "stream",
          "text": [
            "Epoch 8/200: 100%|██████████| 98/98 [00:10<00:00,  9.74it/s, loss=0.0605, lr=8e-5]\n"
          ]
        },
        {
          "name": "stdout",
          "output_type": "stream",
          "text": [
            "Checkpoint saved to diffusion_best_model.pt\n",
            "New best model saved with loss: 0.060493\n",
            "Checkpoint saved to diffusion_checkpoint.pt\n"
          ]
        },
        {
          "name": "stderr",
          "output_type": "stream",
          "text": [
            "Epoch 9/200: 100%|██████████| 98/98 [00:10<00:00,  9.71it/s, loss=0.0568, lr=9e-5]\n"
          ]
        },
        {
          "name": "stdout",
          "output_type": "stream",
          "text": [
            "Checkpoint saved to diffusion_best_model.pt\n",
            "New best model saved with loss: 0.056751\n",
            "Checkpoint saved to diffusion_checkpoint.pt\n"
          ]
        },
        {
          "name": "stderr",
          "output_type": "stream",
          "text": [
            "Epoch 10/200: 100%|██████████| 98/98 [00:10<00:00,  9.71it/s, loss=0.0535, lr=0.0001]\n"
          ]
        },
        {
          "name": "stdout",
          "output_type": "stream",
          "text": [
            "Checkpoint saved to diffusion_best_model.pt\n",
            "New best model saved with loss: 0.053545\n",
            "Checkpoint saved to diffusion_checkpoint.pt\n"
          ]
        },
        {
          "name": "stderr",
          "output_type": "stream",
          "text": [
            "Epoch 11/200: 100%|██████████| 98/98 [00:10<00:00,  9.72it/s, loss=0.0524, lr=0.00011]\n"
          ]
        },
        {
          "name": "stdout",
          "output_type": "stream",
          "text": [
            "Checkpoint saved to diffusion_best_model.pt\n",
            "New best model saved with loss: 0.052441\n",
            "Checkpoint saved to diffusion_checkpoint.pt\n"
          ]
        },
        {
          "name": "stderr",
          "output_type": "stream",
          "text": [
            "Epoch 12/200: 100%|██████████| 98/98 [00:10<00:00,  9.73it/s, loss=0.051, lr=0.00012]\n"
          ]
        },
        {
          "name": "stdout",
          "output_type": "stream",
          "text": [
            "Checkpoint saved to diffusion_best_model.pt\n",
            "New best model saved with loss: 0.050959\n",
            "Checkpoint saved to diffusion_checkpoint.pt\n"
          ]
        },
        {
          "name": "stderr",
          "output_type": "stream",
          "text": [
            "Epoch 13/200: 100%|██████████| 98/98 [00:10<00:00,  9.69it/s, loss=0.0492, lr=0.00013]\n"
          ]
        },
        {
          "name": "stdout",
          "output_type": "stream",
          "text": [
            "Checkpoint saved to diffusion_best_model.pt\n",
            "New best model saved with loss: 0.049197\n",
            "Checkpoint saved to diffusion_checkpoint.pt\n"
          ]
        },
        {
          "name": "stderr",
          "output_type": "stream",
          "text": [
            "Epoch 14/200: 100%|██████████| 98/98 [00:10<00:00,  9.73it/s, loss=0.0482, lr=0.00014]\n"
          ]
        },
        {
          "name": "stdout",
          "output_type": "stream",
          "text": [
            "Checkpoint saved to diffusion_best_model.pt\n",
            "New best model saved with loss: 0.048171\n",
            "Checkpoint saved to diffusion_checkpoint.pt\n"
          ]
        },
        {
          "name": "stderr",
          "output_type": "stream",
          "text": [
            "Epoch 15/200: 100%|██████████| 98/98 [00:10<00:00,  9.74it/s, loss=0.0465, lr=0.00015]\n"
          ]
        },
        {
          "name": "stdout",
          "output_type": "stream",
          "text": [
            "Checkpoint saved to diffusion_best_model.pt\n",
            "New best model saved with loss: 0.046509\n",
            "Checkpoint saved to diffusion_checkpoint.pt\n"
          ]
        },
        {
          "name": "stderr",
          "output_type": "stream",
          "text": [
            "Epoch 16/200: 100%|██████████| 98/98 [00:10<00:00,  9.73it/s, loss=0.0459, lr=0.00016]\n"
          ]
        },
        {
          "name": "stdout",
          "output_type": "stream",
          "text": [
            "Checkpoint saved to diffusion_best_model.pt\n",
            "New best model saved with loss: 0.045856\n",
            "Checkpoint saved to diffusion_checkpoint.pt\n"
          ]
        },
        {
          "name": "stderr",
          "output_type": "stream",
          "text": [
            "Epoch 17/200: 100%|██████████| 98/98 [00:10<00:00,  9.72it/s, loss=0.0451, lr=0.00017]\n"
          ]
        },
        {
          "name": "stdout",
          "output_type": "stream",
          "text": [
            "Checkpoint saved to diffusion_best_model.pt\n",
            "New best model saved with loss: 0.045055\n",
            "Checkpoint saved to diffusion_checkpoint.pt\n"
          ]
        },
        {
          "name": "stderr",
          "output_type": "stream",
          "text": [
            "Epoch 18/200: 100%|██████████| 98/98 [00:10<00:00,  9.73it/s, loss=0.0435, lr=0.00018]\n"
          ]
        },
        {
          "name": "stdout",
          "output_type": "stream",
          "text": [
            "Checkpoint saved to diffusion_best_model.pt\n",
            "New best model saved with loss: 0.043532\n",
            "Checkpoint saved to diffusion_checkpoint.pt\n"
          ]
        },
        {
          "name": "stderr",
          "output_type": "stream",
          "text": [
            "Epoch 19/200: 100%|██████████| 98/98 [00:10<00:00,  9.74it/s, loss=0.0427, lr=0.00019]\n"
          ]
        },
        {
          "name": "stdout",
          "output_type": "stream",
          "text": [
            "Checkpoint saved to diffusion_best_model.pt\n",
            "New best model saved with loss: 0.042685\n",
            "Checkpoint saved to diffusion_checkpoint.pt\n"
          ]
        },
        {
          "name": "stderr",
          "output_type": "stream",
          "text": [
            "Epoch 20/200: 100%|██████████| 98/98 [00:10<00:00,  9.72it/s, loss=0.0418, lr=0.0002]\n"
          ]
        },
        {
          "name": "stdout",
          "output_type": "stream",
          "text": [
            "Checkpoint saved to diffusion_best_model.pt\n",
            "New best model saved with loss: 0.041781\n",
            "Checkpoint saved to diffusion_checkpoint.pt\n"
          ]
        },
        {
          "name": "stderr",
          "output_type": "stream",
          "text": [
            "Epoch 21/200: 100%|██████████| 98/98 [00:10<00:00,  9.73it/s, loss=0.0415, lr=0.0002]\n"
          ]
        },
        {
          "name": "stdout",
          "output_type": "stream",
          "text": [
            "Checkpoint saved to diffusion_best_model.pt\n",
            "New best model saved with loss: 0.041525\n",
            "Checkpoint saved to diffusion_checkpoint.pt\n"
          ]
        },
        {
          "name": "stderr",
          "output_type": "stream",
          "text": [
            "Epoch 22/200: 100%|██████████| 98/98 [00:10<00:00,  9.74it/s, loss=0.04, lr=0.0002]\n"
          ]
        },
        {
          "name": "stdout",
          "output_type": "stream",
          "text": [
            "Checkpoint saved to diffusion_best_model.pt\n",
            "New best model saved with loss: 0.040035\n",
            "Checkpoint saved to diffusion_checkpoint.pt\n"
          ]
        },
        {
          "name": "stderr",
          "output_type": "stream",
          "text": [
            "Epoch 23/200: 100%|██████████| 98/98 [00:10<00:00,  9.71it/s, loss=0.0394, lr=0.0002]\n"
          ]
        },
        {
          "name": "stdout",
          "output_type": "stream",
          "text": [
            "Checkpoint saved to diffusion_best_model.pt\n",
            "New best model saved with loss: 0.039442\n",
            "Checkpoint saved to diffusion_checkpoint.pt\n"
          ]
        },
        {
          "name": "stderr",
          "output_type": "stream",
          "text": [
            "Epoch 24/200: 100%|██████████| 98/98 [00:10<00:00,  9.73it/s, loss=0.0396, lr=0.0002]\n"
          ]
        },
        {
          "name": "stdout",
          "output_type": "stream",
          "text": [
            "Checkpoint saved to diffusion_checkpoint.pt\n"
          ]
        },
        {
          "name": "stderr",
          "output_type": "stream",
          "text": [
            "Epoch 25/200: 100%|██████████| 98/98 [00:10<00:00,  9.74it/s, loss=0.0385, lr=0.0002]\n"
          ]
        },
        {
          "name": "stdout",
          "output_type": "stream",
          "text": [
            "Checkpoint saved to diffusion_best_model.pt\n",
            "New best model saved with loss: 0.038480\n",
            "Checkpoint saved to diffusion_checkpoint.pt\n"
          ]
        },
        {
          "name": "stderr",
          "output_type": "stream",
          "text": [
            "Epoch 26/200: 100%|██████████| 98/98 [00:10<00:00,  9.72it/s, loss=0.038, lr=0.000199]\n"
          ]
        },
        {
          "name": "stdout",
          "output_type": "stream",
          "text": [
            "Checkpoint saved to diffusion_best_model.pt\n",
            "New best model saved with loss: 0.038035\n",
            "Checkpoint saved to diffusion_checkpoint.pt\n"
          ]
        },
        {
          "name": "stderr",
          "output_type": "stream",
          "text": [
            "Epoch 27/200: 100%|██████████| 98/98 [00:10<00:00,  9.72it/s, loss=0.0385, lr=0.000199]\n"
          ]
        },
        {
          "name": "stdout",
          "output_type": "stream",
          "text": [
            "Checkpoint saved to diffusion_checkpoint.pt\n"
          ]
        },
        {
          "name": "stderr",
          "output_type": "stream",
          "text": [
            "Epoch 28/200: 100%|██████████| 98/98 [00:10<00:00,  9.72it/s, loss=0.0372, lr=0.000199]\n"
          ]
        },
        {
          "name": "stdout",
          "output_type": "stream",
          "text": [
            "Checkpoint saved to diffusion_best_model.pt\n",
            "New best model saved with loss: 0.037185\n",
            "Checkpoint saved to diffusion_checkpoint.pt\n"
          ]
        },
        {
          "name": "stderr",
          "output_type": "stream",
          "text": [
            "Epoch 29/200: 100%|██████████| 98/98 [00:10<00:00,  9.74it/s, loss=0.0375, lr=0.000199]\n"
          ]
        },
        {
          "name": "stdout",
          "output_type": "stream",
          "text": [
            "Checkpoint saved to diffusion_checkpoint.pt\n"
          ]
        },
        {
          "name": "stderr",
          "output_type": "stream",
          "text": [
            "Epoch 30/200: 100%|██████████| 98/98 [00:10<00:00,  9.73it/s, loss=0.0375, lr=0.000198]\n"
          ]
        },
        {
          "name": "stdout",
          "output_type": "stream",
          "text": [
            "Checkpoint saved to diffusion_checkpoint.pt\n"
          ]
        },
        {
          "name": "stderr",
          "output_type": "stream",
          "text": [
            "Epoch 31/200: 100%|██████████| 98/98 [00:10<00:00,  9.72it/s, loss=0.037, lr=0.000198]\n"
          ]
        },
        {
          "name": "stdout",
          "output_type": "stream",
          "text": [
            "Checkpoint saved to diffusion_best_model.pt\n",
            "New best model saved with loss: 0.036985\n",
            "Checkpoint saved to diffusion_checkpoint.pt\n"
          ]
        },
        {
          "name": "stderr",
          "output_type": "stream",
          "text": [
            "Epoch 32/200: 100%|██████████| 98/98 [00:10<00:00,  9.73it/s, loss=0.0371, lr=0.000198]\n"
          ]
        },
        {
          "name": "stdout",
          "output_type": "stream",
          "text": [
            "Checkpoint saved to diffusion_checkpoint.pt\n"
          ]
        },
        {
          "name": "stderr",
          "output_type": "stream",
          "text": [
            "Epoch 33/200: 100%|██████████| 98/98 [00:10<00:00,  9.74it/s, loss=0.0363, lr=0.000197]\n"
          ]
        },
        {
          "name": "stdout",
          "output_type": "stream",
          "text": [
            "Checkpoint saved to diffusion_best_model.pt\n",
            "New best model saved with loss: 0.036293\n",
            "Checkpoint saved to diffusion_checkpoint.pt\n"
          ]
        },
        {
          "name": "stderr",
          "output_type": "stream",
          "text": [
            "Epoch 34/200: 100%|██████████| 98/98 [00:10<00:00,  9.72it/s, loss=0.0366, lr=0.000197]\n"
          ]
        },
        {
          "name": "stdout",
          "output_type": "stream",
          "text": [
            "Checkpoint saved to diffusion_checkpoint.pt\n"
          ]
        },
        {
          "name": "stderr",
          "output_type": "stream",
          "text": [
            "Epoch 35/200: 100%|██████████| 98/98 [00:10<00:00,  9.73it/s, loss=0.0362, lr=0.000197]\n"
          ]
        },
        {
          "name": "stdout",
          "output_type": "stream",
          "text": [
            "Checkpoint saved to diffusion_best_model.pt\n",
            "New best model saved with loss: 0.036223\n",
            "Checkpoint saved to diffusion_checkpoint.pt\n"
          ]
        },
        {
          "name": "stderr",
          "output_type": "stream",
          "text": [
            "Epoch 36/200: 100%|██████████| 98/98 [00:10<00:00,  9.74it/s, loss=0.0358, lr=0.000196]\n"
          ]
        },
        {
          "name": "stdout",
          "output_type": "stream",
          "text": [
            "Checkpoint saved to diffusion_best_model.pt\n",
            "New best model saved with loss: 0.035751\n",
            "Checkpoint saved to diffusion_checkpoint.pt\n"
          ]
        },
        {
          "name": "stderr",
          "output_type": "stream",
          "text": [
            "Epoch 37/200: 100%|██████████| 98/98 [00:10<00:00,  9.73it/s, loss=0.0354, lr=0.000196]\n"
          ]
        },
        {
          "name": "stdout",
          "output_type": "stream",
          "text": [
            "Checkpoint saved to diffusion_best_model.pt\n",
            "New best model saved with loss: 0.035355\n",
            "Checkpoint saved to diffusion_checkpoint.pt\n"
          ]
        },
        {
          "name": "stderr",
          "output_type": "stream",
          "text": [
            "Epoch 38/200: 100%|██████████| 98/98 [00:10<00:00,  9.73it/s, loss=0.0351, lr=0.000195]\n"
          ]
        },
        {
          "name": "stdout",
          "output_type": "stream",
          "text": [
            "Checkpoint saved to diffusion_best_model.pt\n",
            "New best model saved with loss: 0.035055\n",
            "Checkpoint saved to diffusion_checkpoint.pt\n"
          ]
        },
        {
          "name": "stderr",
          "output_type": "stream",
          "text": [
            "Epoch 39/200: 100%|██████████| 98/98 [00:10<00:00,  9.71it/s, loss=0.0352, lr=0.000195]\n"
          ]
        },
        {
          "name": "stdout",
          "output_type": "stream",
          "text": [
            "Checkpoint saved to diffusion_checkpoint.pt\n"
          ]
        },
        {
          "name": "stderr",
          "output_type": "stream",
          "text": [
            "Epoch 40/200: 100%|██████████| 98/98 [00:10<00:00,  9.72it/s, loss=0.0351, lr=0.000194]\n"
          ]
        },
        {
          "name": "stdout",
          "output_type": "stream",
          "text": [
            "Checkpoint saved to diffusion_checkpoint.pt\n"
          ]
        },
        {
          "name": "stderr",
          "output_type": "stream",
          "text": [
            "Epoch 41/200: 100%|██████████| 98/98 [00:10<00:00,  9.73it/s, loss=0.0351, lr=0.000193]\n"
          ]
        },
        {
          "name": "stdout",
          "output_type": "stream",
          "text": [
            "Checkpoint saved to diffusion_checkpoint.pt\n"
          ]
        },
        {
          "name": "stderr",
          "output_type": "stream",
          "text": [
            "Epoch 42/200: 100%|██████████| 98/98 [00:10<00:00,  9.72it/s, loss=0.0354, lr=0.000193]\n"
          ]
        },
        {
          "name": "stdout",
          "output_type": "stream",
          "text": [
            "Checkpoint saved to diffusion_checkpoint.pt\n"
          ]
        },
        {
          "name": "stderr",
          "output_type": "stream",
          "text": [
            "Epoch 43/200: 100%|██████████| 98/98 [00:10<00:00,  9.73it/s, loss=0.0349, lr=0.000192]\n"
          ]
        },
        {
          "name": "stdout",
          "output_type": "stream",
          "text": [
            "Checkpoint saved to diffusion_best_model.pt\n",
            "New best model saved with loss: 0.034919\n",
            "Checkpoint saved to diffusion_checkpoint.pt\n"
          ]
        },
        {
          "name": "stderr",
          "output_type": "stream",
          "text": [
            "Epoch 44/200: 100%|██████████| 98/98 [00:10<00:00,  9.72it/s, loss=0.0349, lr=0.000191]\n"
          ]
        },
        {
          "name": "stdout",
          "output_type": "stream",
          "text": [
            "Checkpoint saved to diffusion_checkpoint.pt\n"
          ]
        },
        {
          "name": "stderr",
          "output_type": "stream",
          "text": [
            "Epoch 45/200: 100%|██████████| 98/98 [00:10<00:00,  9.73it/s, loss=0.0347, lr=0.000191]\n"
          ]
        },
        {
          "name": "stdout",
          "output_type": "stream",
          "text": [
            "Checkpoint saved to diffusion_best_model.pt\n",
            "New best model saved with loss: 0.034675\n",
            "Checkpoint saved to diffusion_checkpoint.pt\n"
          ]
        },
        {
          "name": "stderr",
          "output_type": "stream",
          "text": [
            "Epoch 46/200: 100%|██████████| 98/98 [00:10<00:00,  9.73it/s, loss=0.0348, lr=0.00019]\n"
          ]
        },
        {
          "name": "stdout",
          "output_type": "stream",
          "text": [
            "Checkpoint saved to diffusion_checkpoint.pt\n"
          ]
        },
        {
          "name": "stderr",
          "output_type": "stream",
          "text": [
            "Epoch 47/200: 100%|██████████| 98/98 [00:10<00:00,  9.74it/s, loss=0.0344, lr=0.000189]\n"
          ]
        },
        {
          "name": "stdout",
          "output_type": "stream",
          "text": [
            "Checkpoint saved to diffusion_best_model.pt\n",
            "New best model saved with loss: 0.034352\n",
            "Checkpoint saved to diffusion_checkpoint.pt\n"
          ]
        },
        {
          "name": "stderr",
          "output_type": "stream",
          "text": [
            "Epoch 48/200: 100%|██████████| 98/98 [00:10<00:00,  9.73it/s, loss=0.0343, lr=0.000188]\n"
          ]
        },
        {
          "name": "stdout",
          "output_type": "stream",
          "text": [
            "Checkpoint saved to diffusion_best_model.pt\n",
            "New best model saved with loss: 0.034314\n",
            "Checkpoint saved to diffusion_checkpoint.pt\n"
          ]
        },
        {
          "name": "stderr",
          "output_type": "stream",
          "text": [
            "Epoch 49/200: 100%|██████████| 98/98 [00:10<00:00,  9.72it/s, loss=0.0342, lr=0.000187]\n"
          ]
        },
        {
          "name": "stdout",
          "output_type": "stream",
          "text": [
            "Checkpoint saved to diffusion_best_model.pt\n",
            "New best model saved with loss: 0.034175\n",
            "Checkpoint saved to diffusion_checkpoint.pt\n"
          ]
        },
        {
          "name": "stderr",
          "output_type": "stream",
          "text": [
            "Epoch 50/200: 100%|██████████| 98/98 [00:10<00:00,  9.73it/s, loss=0.0342, lr=0.000187]\n"
          ]
        },
        {
          "name": "stdout",
          "output_type": "stream",
          "text": [
            "Checkpoint saved to diffusion_checkpoint.pt\n"
          ]
        },
        {
          "name": "stderr",
          "output_type": "stream",
          "text": [
            "Epoch 51/200: 100%|██████████| 98/98 [00:10<00:00,  9.71it/s, loss=0.0341, lr=0.000186]\n"
          ]
        },
        {
          "name": "stdout",
          "output_type": "stream",
          "text": [
            "Checkpoint saved to diffusion_best_model.pt\n",
            "New best model saved with loss: 0.034134\n",
            "Checkpoint saved to diffusion_checkpoint.pt\n"
          ]
        },
        {
          "name": "stderr",
          "output_type": "stream",
          "text": [
            "Epoch 52/200: 100%|██████████| 98/98 [00:10<00:00,  9.72it/s, loss=0.0341, lr=0.000185]\n"
          ]
        },
        {
          "name": "stdout",
          "output_type": "stream",
          "text": [
            "Checkpoint saved to diffusion_best_model.pt\n",
            "New best model saved with loss: 0.034081\n",
            "Checkpoint saved to diffusion_checkpoint.pt\n"
          ]
        },
        {
          "name": "stderr",
          "output_type": "stream",
          "text": [
            "Epoch 53/200: 100%|██████████| 98/98 [00:10<00:00,  9.74it/s, loss=0.034, lr=0.000184]\n"
          ]
        },
        {
          "name": "stdout",
          "output_type": "stream",
          "text": [
            "Checkpoint saved to diffusion_best_model.pt\n",
            "New best model saved with loss: 0.034027\n",
            "Checkpoint saved to diffusion_checkpoint.pt\n"
          ]
        },
        {
          "name": "stderr",
          "output_type": "stream",
          "text": [
            "Epoch 54/200: 100%|██████████| 98/98 [00:10<00:00,  9.73it/s, loss=0.0337, lr=0.000183]\n"
          ]
        },
        {
          "name": "stdout",
          "output_type": "stream",
          "text": [
            "Checkpoint saved to diffusion_best_model.pt\n",
            "New best model saved with loss: 0.033662\n",
            "Checkpoint saved to diffusion_checkpoint.pt\n"
          ]
        },
        {
          "name": "stderr",
          "output_type": "stream",
          "text": [
            "Epoch 55/200: 100%|██████████| 98/98 [00:10<00:00,  9.71it/s, loss=0.0336, lr=0.000182]\n"
          ]
        },
        {
          "name": "stdout",
          "output_type": "stream",
          "text": [
            "Checkpoint saved to diffusion_best_model.pt\n",
            "New best model saved with loss: 0.033612\n",
            "Checkpoint saved to diffusion_checkpoint.pt\n"
          ]
        },
        {
          "name": "stderr",
          "output_type": "stream",
          "text": [
            "Epoch 56/200: 100%|██████████| 98/98 [00:10<00:00,  9.73it/s, loss=0.0339, lr=0.000181]\n"
          ]
        },
        {
          "name": "stdout",
          "output_type": "stream",
          "text": [
            "Checkpoint saved to diffusion_checkpoint.pt\n"
          ]
        },
        {
          "name": "stderr",
          "output_type": "stream",
          "text": [
            "Epoch 57/200: 100%|██████████| 98/98 [00:10<00:00,  9.72it/s, loss=0.0334, lr=0.00018]\n"
          ]
        },
        {
          "name": "stdout",
          "output_type": "stream",
          "text": [
            "Checkpoint saved to diffusion_best_model.pt\n",
            "New best model saved with loss: 0.033354\n",
            "Checkpoint saved to diffusion_checkpoint.pt\n"
          ]
        },
        {
          "name": "stderr",
          "output_type": "stream",
          "text": [
            "Epoch 58/200: 100%|██████████| 98/98 [00:10<00:00,  9.71it/s, loss=0.0331, lr=0.000179]\n"
          ]
        },
        {
          "name": "stdout",
          "output_type": "stream",
          "text": [
            "Checkpoint saved to diffusion_best_model.pt\n",
            "New best model saved with loss: 0.033080\n",
            "Checkpoint saved to diffusion_checkpoint.pt\n"
          ]
        },
        {
          "name": "stderr",
          "output_type": "stream",
          "text": [
            "Epoch 59/200: 100%|██████████| 98/98 [00:10<00:00,  9.72it/s, loss=0.0335, lr=0.000178]\n"
          ]
        },
        {
          "name": "stdout",
          "output_type": "stream",
          "text": [
            "Checkpoint saved to diffusion_checkpoint.pt\n"
          ]
        },
        {
          "name": "stderr",
          "output_type": "stream",
          "text": [
            "Epoch 60/200: 100%|██████████| 98/98 [00:10<00:00,  9.69it/s, loss=0.0337, lr=0.000177]\n"
          ]
        },
        {
          "name": "stdout",
          "output_type": "stream",
          "text": [
            "Checkpoint saved to diffusion_checkpoint.pt\n"
          ]
        },
        {
          "name": "stderr",
          "output_type": "stream",
          "text": [
            "Epoch 61/200: 100%|██████████| 98/98 [00:10<00:00,  9.73it/s, loss=0.0334, lr=0.000175]\n"
          ]
        },
        {
          "name": "stdout",
          "output_type": "stream",
          "text": [
            "Checkpoint saved to diffusion_checkpoint.pt\n"
          ]
        },
        {
          "name": "stderr",
          "output_type": "stream",
          "text": [
            "Epoch 62/200: 100%|██████████| 98/98 [00:10<00:00,  9.72it/s, loss=0.0339, lr=0.000174]\n"
          ]
        },
        {
          "name": "stdout",
          "output_type": "stream",
          "text": [
            "Checkpoint saved to diffusion_checkpoint.pt\n"
          ]
        },
        {
          "name": "stderr",
          "output_type": "stream",
          "text": [
            "Epoch 63/200: 100%|██████████| 98/98 [00:10<00:00,  9.71it/s, loss=0.0334, lr=0.000173]\n"
          ]
        },
        {
          "name": "stdout",
          "output_type": "stream",
          "text": [
            "Checkpoint saved to diffusion_checkpoint.pt\n"
          ]
        },
        {
          "name": "stderr",
          "output_type": "stream",
          "text": [
            "Epoch 64/200: 100%|██████████| 98/98 [00:10<00:00,  9.68it/s, loss=0.0332, lr=0.000172]\n"
          ]
        },
        {
          "name": "stdout",
          "output_type": "stream",
          "text": [
            "Checkpoint saved to diffusion_checkpoint.pt\n"
          ]
        },
        {
          "name": "stderr",
          "output_type": "stream",
          "text": [
            "Epoch 65/200: 100%|██████████| 98/98 [00:10<00:00,  9.72it/s, loss=0.0326, lr=0.000171]\n"
          ]
        },
        {
          "name": "stdout",
          "output_type": "stream",
          "text": [
            "Checkpoint saved to diffusion_best_model.pt\n",
            "New best model saved with loss: 0.032571\n",
            "Checkpoint saved to diffusion_checkpoint.pt\n"
          ]
        },
        {
          "name": "stderr",
          "output_type": "stream",
          "text": [
            "Epoch 66/200: 100%|██████████| 98/98 [00:10<00:00,  9.71it/s, loss=0.0335, lr=0.000169]\n"
          ]
        },
        {
          "name": "stdout",
          "output_type": "stream",
          "text": [
            "Checkpoint saved to diffusion_checkpoint.pt\n"
          ]
        },
        {
          "name": "stderr",
          "output_type": "stream",
          "text": [
            "Epoch 67/200: 100%|██████████| 98/98 [00:10<00:00,  9.72it/s, loss=0.0329, lr=0.000168]\n"
          ]
        },
        {
          "name": "stdout",
          "output_type": "stream",
          "text": [
            "Checkpoint saved to diffusion_checkpoint.pt\n"
          ]
        },
        {
          "name": "stderr",
          "output_type": "stream",
          "text": [
            "Epoch 68/200: 100%|██████████| 98/98 [00:10<00:00,  9.74it/s, loss=0.0329, lr=0.000167]\n"
          ]
        },
        {
          "name": "stdout",
          "output_type": "stream",
          "text": [
            "Checkpoint saved to diffusion_checkpoint.pt\n"
          ]
        },
        {
          "name": "stderr",
          "output_type": "stream",
          "text": [
            "Epoch 69/200: 100%|██████████| 98/98 [00:10<00:00,  9.72it/s, loss=0.0328, lr=0.000166]\n"
          ]
        },
        {
          "name": "stdout",
          "output_type": "stream",
          "text": [
            "Checkpoint saved to diffusion_checkpoint.pt\n"
          ]
        },
        {
          "name": "stderr",
          "output_type": "stream",
          "text": [
            "Epoch 70/200: 100%|██████████| 98/98 [00:10<00:00,  9.72it/s, loss=0.0332, lr=0.000164]\n"
          ]
        },
        {
          "name": "stdout",
          "output_type": "stream",
          "text": [
            "Checkpoint saved to diffusion_checkpoint.pt\n"
          ]
        },
        {
          "name": "stderr",
          "output_type": "stream",
          "text": [
            "Epoch 71/200: 100%|██████████| 98/98 [00:10<00:00,  9.73it/s, loss=0.0334, lr=0.000163]\n"
          ]
        },
        {
          "name": "stdout",
          "output_type": "stream",
          "text": [
            "Checkpoint saved to diffusion_checkpoint.pt\n"
          ]
        },
        {
          "name": "stderr",
          "output_type": "stream",
          "text": [
            "Epoch 72/200: 100%|██████████| 98/98 [00:10<00:00,  9.73it/s, loss=0.0331, lr=0.000162]\n"
          ]
        },
        {
          "name": "stdout",
          "output_type": "stream",
          "text": [
            "Checkpoint saved to diffusion_checkpoint.pt\n"
          ]
        },
        {
          "name": "stderr",
          "output_type": "stream",
          "text": [
            "Epoch 73/200: 100%|██████████| 98/98 [00:10<00:00,  9.71it/s, loss=0.0325, lr=0.00016]\n"
          ]
        },
        {
          "name": "stdout",
          "output_type": "stream",
          "text": [
            "Checkpoint saved to diffusion_best_model.pt\n",
            "New best model saved with loss: 0.032495\n",
            "Checkpoint saved to diffusion_checkpoint.pt\n"
          ]
        },
        {
          "name": "stderr",
          "output_type": "stream",
          "text": [
            "Epoch 74/200: 100%|██████████| 98/98 [00:10<00:00,  9.73it/s, loss=0.0323, lr=0.000159]\n"
          ]
        },
        {
          "name": "stdout",
          "output_type": "stream",
          "text": [
            "Checkpoint saved to diffusion_best_model.pt\n",
            "New best model saved with loss: 0.032299\n",
            "Checkpoint saved to diffusion_checkpoint.pt\n"
          ]
        },
        {
          "name": "stderr",
          "output_type": "stream",
          "text": [
            "Epoch 75/200: 100%|██████████| 98/98 [00:10<00:00,  9.70it/s, loss=0.0327, lr=0.000157]\n"
          ]
        },
        {
          "name": "stdout",
          "output_type": "stream",
          "text": [
            "Checkpoint saved to diffusion_checkpoint.pt\n"
          ]
        },
        {
          "name": "stderr",
          "output_type": "stream",
          "text": [
            "Epoch 76/200: 100%|██████████| 98/98 [00:10<00:00,  9.72it/s, loss=0.0324, lr=0.000156]\n"
          ]
        },
        {
          "name": "stdout",
          "output_type": "stream",
          "text": [
            "Checkpoint saved to diffusion_checkpoint.pt\n"
          ]
        },
        {
          "name": "stderr",
          "output_type": "stream",
          "text": [
            "Epoch 77/200: 100%|██████████| 98/98 [00:10<00:00,  9.70it/s, loss=0.0324, lr=0.000154]\n"
          ]
        },
        {
          "name": "stdout",
          "output_type": "stream",
          "text": [
            "Checkpoint saved to diffusion_checkpoint.pt\n"
          ]
        },
        {
          "name": "stderr",
          "output_type": "stream",
          "text": [
            "Epoch 78/200: 100%|██████████| 98/98 [00:10<00:00,  9.72it/s, loss=0.0322, lr=0.000153]\n"
          ]
        },
        {
          "name": "stdout",
          "output_type": "stream",
          "text": [
            "Checkpoint saved to diffusion_best_model.pt\n",
            "New best model saved with loss: 0.032210\n",
            "Checkpoint saved to diffusion_checkpoint.pt\n"
          ]
        },
        {
          "name": "stderr",
          "output_type": "stream",
          "text": [
            "Epoch 79/200: 100%|██████████| 98/98 [00:10<00:00,  9.71it/s, loss=0.0327, lr=0.000152]\n"
          ]
        },
        {
          "name": "stdout",
          "output_type": "stream",
          "text": [
            "Checkpoint saved to diffusion_checkpoint.pt\n"
          ]
        },
        {
          "name": "stderr",
          "output_type": "stream",
          "text": [
            "Epoch 80/200: 100%|██████████| 98/98 [00:10<00:00,  9.73it/s, loss=0.0326, lr=0.00015]\n"
          ]
        },
        {
          "name": "stdout",
          "output_type": "stream",
          "text": [
            "Checkpoint saved to diffusion_checkpoint.pt\n"
          ]
        },
        {
          "name": "stderr",
          "output_type": "stream",
          "text": [
            "Epoch 81/200: 100%|██████████| 98/98 [00:10<00:00,  9.70it/s, loss=0.032, lr=0.000148]\n"
          ]
        },
        {
          "name": "stdout",
          "output_type": "stream",
          "text": [
            "Checkpoint saved to diffusion_best_model.pt\n",
            "New best model saved with loss: 0.031981\n",
            "Checkpoint saved to diffusion_checkpoint.pt\n"
          ]
        },
        {
          "name": "stderr",
          "output_type": "stream",
          "text": [
            "Epoch 82/200: 100%|██████████| 98/98 [00:10<00:00,  9.70it/s, loss=0.033, lr=0.000147]\n"
          ]
        },
        {
          "name": "stdout",
          "output_type": "stream",
          "text": [
            "Checkpoint saved to diffusion_checkpoint.pt\n"
          ]
        },
        {
          "name": "stderr",
          "output_type": "stream",
          "text": [
            "Epoch 83/200: 100%|██████████| 98/98 [00:10<00:00,  9.70it/s, loss=0.0325, lr=0.000145]\n"
          ]
        },
        {
          "name": "stdout",
          "output_type": "stream",
          "text": [
            "Checkpoint saved to diffusion_checkpoint.pt\n"
          ]
        },
        {
          "name": "stderr",
          "output_type": "stream",
          "text": [
            "Epoch 84/200: 100%|██████████| 98/98 [00:10<00:00,  9.70it/s, loss=0.0325, lr=0.000144]\n"
          ]
        },
        {
          "name": "stdout",
          "output_type": "stream",
          "text": [
            "Checkpoint saved to diffusion_checkpoint.pt\n"
          ]
        },
        {
          "name": "stderr",
          "output_type": "stream",
          "text": [
            "Epoch 85/200: 100%|██████████| 98/98 [00:10<00:00,  9.72it/s, loss=0.0322, lr=0.000142]\n"
          ]
        },
        {
          "name": "stdout",
          "output_type": "stream",
          "text": [
            "Checkpoint saved to diffusion_checkpoint.pt\n"
          ]
        },
        {
          "name": "stderr",
          "output_type": "stream",
          "text": [
            "Epoch 86/200: 100%|██████████| 98/98 [00:10<00:00,  9.68it/s, loss=0.0323, lr=0.000141]\n"
          ]
        },
        {
          "name": "stdout",
          "output_type": "stream",
          "text": [
            "Checkpoint saved to diffusion_checkpoint.pt\n"
          ]
        },
        {
          "name": "stderr",
          "output_type": "stream",
          "text": [
            "Epoch 87/200: 100%|██████████| 98/98 [00:10<00:00,  9.71it/s, loss=0.0324, lr=0.000139]\n"
          ]
        },
        {
          "name": "stdout",
          "output_type": "stream",
          "text": [
            "Checkpoint saved to diffusion_checkpoint.pt\n"
          ]
        },
        {
          "name": "stderr",
          "output_type": "stream",
          "text": [
            "Epoch 88/200: 100%|██████████| 98/98 [00:10<00:00,  9.71it/s, loss=0.0322, lr=0.000137]\n"
          ]
        },
        {
          "name": "stdout",
          "output_type": "stream",
          "text": [
            "Checkpoint saved to diffusion_checkpoint.pt\n"
          ]
        },
        {
          "name": "stderr",
          "output_type": "stream",
          "text": [
            "Epoch 89/200: 100%|██████████| 98/98 [00:10<00:00,  9.69it/s, loss=0.0322, lr=0.000136]\n"
          ]
        },
        {
          "name": "stdout",
          "output_type": "stream",
          "text": [
            "Checkpoint saved to diffusion_checkpoint.pt\n"
          ]
        },
        {
          "name": "stderr",
          "output_type": "stream",
          "text": [
            "Epoch 90/200: 100%|██████████| 98/98 [00:10<00:00,  9.72it/s, loss=0.0322, lr=0.000134]\n"
          ]
        },
        {
          "name": "stdout",
          "output_type": "stream",
          "text": [
            "Checkpoint saved to diffusion_checkpoint.pt\n"
          ]
        },
        {
          "name": "stderr",
          "output_type": "stream",
          "text": [
            "Epoch 91/200: 100%|██████████| 98/98 [00:10<00:00,  9.70it/s, loss=0.0321, lr=0.000133]\n"
          ]
        },
        {
          "name": "stdout",
          "output_type": "stream",
          "text": [
            "Checkpoint saved to diffusion_checkpoint.pt\n"
          ]
        },
        {
          "name": "stderr",
          "output_type": "stream",
          "text": [
            "Epoch 92/200: 100%|██████████| 98/98 [00:10<00:00,  9.70it/s, loss=0.032, lr=0.000131]\n"
          ]
        },
        {
          "name": "stdout",
          "output_type": "stream",
          "text": [
            "Checkpoint saved to diffusion_checkpoint.pt\n"
          ]
        },
        {
          "name": "stderr",
          "output_type": "stream",
          "text": [
            "Epoch 93/200: 100%|██████████| 98/98 [00:10<00:00,  9.71it/s, loss=0.0321, lr=0.000129]\n"
          ]
        },
        {
          "name": "stdout",
          "output_type": "stream",
          "text": [
            "Checkpoint saved to diffusion_checkpoint.pt\n"
          ]
        },
        {
          "name": "stderr",
          "output_type": "stream",
          "text": [
            "Epoch 94/200: 100%|██████████| 98/98 [00:10<00:00,  9.71it/s, loss=0.0322, lr=0.000128]\n"
          ]
        },
        {
          "name": "stdout",
          "output_type": "stream",
          "text": [
            "Checkpoint saved to diffusion_checkpoint.pt\n"
          ]
        },
        {
          "name": "stderr",
          "output_type": "stream",
          "text": [
            "Epoch 95/200: 100%|██████████| 98/98 [00:10<00:00,  9.69it/s, loss=0.0323, lr=0.000126]\n"
          ]
        },
        {
          "name": "stdout",
          "output_type": "stream",
          "text": [
            "Checkpoint saved to diffusion_checkpoint.pt\n"
          ]
        },
        {
          "name": "stderr",
          "output_type": "stream",
          "text": [
            "Epoch 96/200: 100%|██████████| 98/98 [00:10<00:00,  9.70it/s, loss=0.0316, lr=0.000124]\n"
          ]
        },
        {
          "name": "stdout",
          "output_type": "stream",
          "text": [
            "Checkpoint saved to diffusion_best_model.pt\n",
            "New best model saved with loss: 0.031621\n",
            "Checkpoint saved to diffusion_checkpoint.pt\n"
          ]
        },
        {
          "name": "stderr",
          "output_type": "stream",
          "text": [
            "Epoch 97/200: 100%|██████████| 98/98 [00:10<00:00,  9.68it/s, loss=0.0318, lr=0.000122]\n"
          ]
        },
        {
          "name": "stdout",
          "output_type": "stream",
          "text": [
            "Checkpoint saved to diffusion_checkpoint.pt\n"
          ]
        },
        {
          "name": "stderr",
          "output_type": "stream",
          "text": [
            "Epoch 98/200: 100%|██████████| 98/98 [00:10<00:00,  9.71it/s, loss=0.0318, lr=0.000121]\n"
          ]
        },
        {
          "name": "stdout",
          "output_type": "stream",
          "text": [
            "Checkpoint saved to diffusion_checkpoint.pt\n"
          ]
        },
        {
          "name": "stderr",
          "output_type": "stream",
          "text": [
            "Epoch 99/200: 100%|██████████| 98/98 [00:10<00:00,  9.71it/s, loss=0.0319, lr=0.000119]\n"
          ]
        },
        {
          "name": "stdout",
          "output_type": "stream",
          "text": [
            "Checkpoint saved to diffusion_checkpoint.pt\n"
          ]
        },
        {
          "name": "stderr",
          "output_type": "stream",
          "text": [
            "Epoch 100/200: 100%|██████████| 98/98 [00:10<00:00,  9.71it/s, loss=0.0314, lr=0.000117]\n"
          ]
        },
        {
          "name": "stdout",
          "output_type": "stream",
          "text": [
            "Checkpoint saved to diffusion_best_model.pt\n",
            "New best model saved with loss: 0.031437\n",
            "Checkpoint saved to diffusion_checkpoint.pt\n"
          ]
        },
        {
          "name": "stderr",
          "output_type": "stream",
          "text": [
            "Epoch 101/200: 100%|██████████| 98/98 [00:10<00:00,  9.69it/s, loss=0.0316, lr=0.000116]\n"
          ]
        },
        {
          "name": "stdout",
          "output_type": "stream",
          "text": [
            "Checkpoint saved to diffusion_checkpoint.pt\n"
          ]
        },
        {
          "name": "stderr",
          "output_type": "stream",
          "text": [
            "Epoch 102/200: 100%|██████████| 98/98 [00:10<00:00,  9.69it/s, loss=0.0321, lr=0.000114]\n"
          ]
        },
        {
          "name": "stdout",
          "output_type": "stream",
          "text": [
            "Checkpoint saved to diffusion_checkpoint.pt\n"
          ]
        },
        {
          "name": "stderr",
          "output_type": "stream",
          "text": [
            "Epoch 103/200: 100%|██████████| 98/98 [00:10<00:00,  9.70it/s, loss=0.0318, lr=0.000112]\n"
          ]
        },
        {
          "name": "stdout",
          "output_type": "stream",
          "text": [
            "Checkpoint saved to diffusion_checkpoint.pt\n"
          ]
        },
        {
          "name": "stderr",
          "output_type": "stream",
          "text": [
            "Epoch 104/200: 100%|██████████| 98/98 [00:10<00:00,  9.69it/s, loss=0.0311, lr=0.00011]\n"
          ]
        },
        {
          "name": "stdout",
          "output_type": "stream",
          "text": [
            "Checkpoint saved to diffusion_best_model.pt\n",
            "New best model saved with loss: 0.031109\n",
            "Checkpoint saved to diffusion_checkpoint.pt\n"
          ]
        },
        {
          "name": "stderr",
          "output_type": "stream",
          "text": [
            "Epoch 105/200: 100%|██████████| 98/98 [00:10<00:00,  9.69it/s, loss=0.0314, lr=0.000109]\n"
          ]
        },
        {
          "name": "stdout",
          "output_type": "stream",
          "text": [
            "Checkpoint saved to diffusion_checkpoint.pt\n"
          ]
        },
        {
          "name": "stderr",
          "output_type": "stream",
          "text": [
            "Epoch 106/200: 100%|██████████| 98/98 [00:10<00:00,  9.68it/s, loss=0.0325, lr=0.000107]\n"
          ]
        },
        {
          "name": "stdout",
          "output_type": "stream",
          "text": [
            "Checkpoint saved to diffusion_checkpoint.pt\n"
          ]
        },
        {
          "name": "stderr",
          "output_type": "stream",
          "text": [
            "Epoch 107/200: 100%|██████████| 98/98 [00:10<00:00,  9.70it/s, loss=0.0314, lr=0.000105]\n"
          ]
        },
        {
          "name": "stdout",
          "output_type": "stream",
          "text": [
            "Checkpoint saved to diffusion_checkpoint.pt\n"
          ]
        },
        {
          "name": "stderr",
          "output_type": "stream",
          "text": [
            "Epoch 108/200: 100%|██████████| 98/98 [00:10<00:00,  9.71it/s, loss=0.0314, lr=0.000103]\n"
          ]
        },
        {
          "name": "stdout",
          "output_type": "stream",
          "text": [
            "Checkpoint saved to diffusion_checkpoint.pt\n"
          ]
        },
        {
          "name": "stderr",
          "output_type": "stream",
          "text": [
            "Epoch 109/200: 100%|██████████| 98/98 [00:10<00:00,  9.70it/s, loss=0.0314, lr=0.000102]\n"
          ]
        },
        {
          "name": "stdout",
          "output_type": "stream",
          "text": [
            "Checkpoint saved to diffusion_checkpoint.pt\n"
          ]
        },
        {
          "name": "stderr",
          "output_type": "stream",
          "text": [
            "Epoch 110/200: 100%|██████████| 98/98 [00:10<00:00,  9.71it/s, loss=0.0312, lr=0.0001]\n"
          ]
        },
        {
          "name": "stdout",
          "output_type": "stream",
          "text": [
            "Checkpoint saved to diffusion_checkpoint.pt\n"
          ]
        },
        {
          "name": "stderr",
          "output_type": "stream",
          "text": [
            "Epoch 111/200: 100%|██████████| 98/98 [00:10<00:00,  9.70it/s, loss=0.0317, lr=9.83e-5]\n"
          ]
        },
        {
          "name": "stdout",
          "output_type": "stream",
          "text": [
            "Checkpoint saved to diffusion_checkpoint.pt\n"
          ]
        },
        {
          "name": "stderr",
          "output_type": "stream",
          "text": [
            "Epoch 112/200: 100%|██████████| 98/98 [00:10<00:00,  9.67it/s, loss=0.0312, lr=9.65e-5]\n"
          ]
        },
        {
          "name": "stdout",
          "output_type": "stream",
          "text": [
            "Checkpoint saved to diffusion_checkpoint.pt\n"
          ]
        },
        {
          "name": "stderr",
          "output_type": "stream",
          "text": [
            "Epoch 113/200: 100%|██████████| 98/98 [00:10<00:00,  9.65it/s, loss=0.0319, lr=9.48e-5]\n"
          ]
        },
        {
          "name": "stdout",
          "output_type": "stream",
          "text": [
            "Checkpoint saved to diffusion_checkpoint.pt\n"
          ]
        },
        {
          "name": "stderr",
          "output_type": "stream",
          "text": [
            "Epoch 114/200: 100%|██████████| 98/98 [00:10<00:00,  9.68it/s, loss=0.0313, lr=9.3e-5]\n"
          ]
        },
        {
          "name": "stdout",
          "output_type": "stream",
          "text": [
            "Checkpoint saved to diffusion_checkpoint.pt\n"
          ]
        },
        {
          "name": "stderr",
          "output_type": "stream",
          "text": [
            "Epoch 115/200: 100%|██████████| 98/98 [00:10<00:00,  9.66it/s, loss=0.0314, lr=9.13e-5]\n"
          ]
        },
        {
          "name": "stdout",
          "output_type": "stream",
          "text": [
            "Checkpoint saved to diffusion_checkpoint.pt\n"
          ]
        },
        {
          "name": "stderr",
          "output_type": "stream",
          "text": [
            "Epoch 116/200: 100%|██████████| 98/98 [00:10<00:00,  9.67it/s, loss=0.0313, lr=8.95e-5]\n"
          ]
        },
        {
          "name": "stdout",
          "output_type": "stream",
          "text": [
            "Checkpoint saved to diffusion_checkpoint.pt\n"
          ]
        },
        {
          "name": "stderr",
          "output_type": "stream",
          "text": [
            "Epoch 117/200: 100%|██████████| 98/98 [00:10<00:00,  9.69it/s, loss=0.0306, lr=8.78e-5]\n"
          ]
        },
        {
          "name": "stdout",
          "output_type": "stream",
          "text": [
            "Checkpoint saved to diffusion_best_model.pt\n",
            "New best model saved with loss: 0.030617\n",
            "Checkpoint saved to diffusion_checkpoint.pt\n"
          ]
        },
        {
          "name": "stderr",
          "output_type": "stream",
          "text": [
            "Epoch 118/200: 100%|██████████| 98/98 [00:10<00:00,  9.67it/s, loss=0.0311, lr=8.61e-5]\n"
          ]
        },
        {
          "name": "stdout",
          "output_type": "stream",
          "text": [
            "Checkpoint saved to diffusion_checkpoint.pt\n"
          ]
        },
        {
          "name": "stderr",
          "output_type": "stream",
          "text": [
            "Epoch 119/200: 100%|██████████| 98/98 [00:10<00:00,  9.68it/s, loss=0.0319, lr=8.44e-5]\n"
          ]
        },
        {
          "name": "stdout",
          "output_type": "stream",
          "text": [
            "Checkpoint saved to diffusion_checkpoint.pt\n"
          ]
        },
        {
          "name": "stderr",
          "output_type": "stream",
          "text": [
            "Epoch 120/200: 100%|██████████| 98/98 [00:10<00:00,  9.70it/s, loss=0.0316, lr=8.26e-5]\n"
          ]
        },
        {
          "name": "stdout",
          "output_type": "stream",
          "text": [
            "Checkpoint saved to diffusion_checkpoint.pt\n"
          ]
        },
        {
          "name": "stderr",
          "output_type": "stream",
          "text": [
            "Epoch 121/200: 100%|██████████| 98/98 [00:10<00:00,  9.68it/s, loss=0.0314, lr=8.09e-5]\n"
          ]
        },
        {
          "name": "stdout",
          "output_type": "stream",
          "text": [
            "Checkpoint saved to diffusion_checkpoint.pt\n"
          ]
        },
        {
          "name": "stderr",
          "output_type": "stream",
          "text": [
            "Epoch 122/200: 100%|██████████| 98/98 [00:10<00:00,  9.67it/s, loss=0.0308, lr=7.92e-5]\n"
          ]
        },
        {
          "name": "stdout",
          "output_type": "stream",
          "text": [
            "Checkpoint saved to diffusion_checkpoint.pt\n"
          ]
        },
        {
          "name": "stderr",
          "output_type": "stream",
          "text": [
            "Epoch 123/200: 100%|██████████| 98/98 [00:10<00:00,  9.67it/s, loss=0.0313, lr=7.75e-5]\n"
          ]
        },
        {
          "name": "stdout",
          "output_type": "stream",
          "text": [
            "Checkpoint saved to diffusion_checkpoint.pt\n"
          ]
        },
        {
          "name": "stderr",
          "output_type": "stream",
          "text": [
            "Epoch 124/200: 100%|██████████| 98/98 [00:10<00:00,  9.65it/s, loss=0.031, lr=7.58e-5]\n"
          ]
        },
        {
          "name": "stdout",
          "output_type": "stream",
          "text": [
            "Checkpoint saved to diffusion_checkpoint.pt\n"
          ]
        },
        {
          "name": "stderr",
          "output_type": "stream",
          "text": [
            "Epoch 125/200: 100%|██████████| 98/98 [00:10<00:00,  9.67it/s, loss=0.0315, lr=7.41e-5]\n"
          ]
        },
        {
          "name": "stdout",
          "output_type": "stream",
          "text": [
            "Checkpoint saved to diffusion_checkpoint.pt\n"
          ]
        },
        {
          "name": "stderr",
          "output_type": "stream",
          "text": [
            "Epoch 126/200: 100%|██████████| 98/98 [00:10<00:00,  9.67it/s, loss=0.0319, lr=7.24e-5]\n"
          ]
        },
        {
          "name": "stdout",
          "output_type": "stream",
          "text": [
            "Checkpoint saved to diffusion_checkpoint.pt\n"
          ]
        },
        {
          "name": "stderr",
          "output_type": "stream",
          "text": [
            "Epoch 127/200: 100%|██████████| 98/98 [00:10<00:00,  9.68it/s, loss=0.0313, lr=7.08e-5]\n"
          ]
        },
        {
          "name": "stdout",
          "output_type": "stream",
          "text": [
            "Checkpoint saved to diffusion_checkpoint.pt\n"
          ]
        },
        {
          "name": "stderr",
          "output_type": "stream",
          "text": [
            "Epoch 128/200: 100%|██████████| 98/98 [00:10<00:00,  9.69it/s, loss=0.0313, lr=6.91e-5]\n"
          ]
        },
        {
          "name": "stdout",
          "output_type": "stream",
          "text": [
            "Checkpoint saved to diffusion_checkpoint.pt\n"
          ]
        },
        {
          "name": "stderr",
          "output_type": "stream",
          "text": [
            "Epoch 129/200: 100%|██████████| 98/98 [00:10<00:00,  9.68it/s, loss=0.0313, lr=6.74e-5]\n"
          ]
        },
        {
          "name": "stdout",
          "output_type": "stream",
          "text": [
            "Checkpoint saved to diffusion_checkpoint.pt\n"
          ]
        },
        {
          "name": "stderr",
          "output_type": "stream",
          "text": [
            "Epoch 130/200: 100%|██████████| 98/98 [00:10<00:00,  9.70it/s, loss=0.0312, lr=6.58e-5]\n"
          ]
        },
        {
          "name": "stdout",
          "output_type": "stream",
          "text": [
            "Checkpoint saved to diffusion_checkpoint.pt\n"
          ]
        },
        {
          "name": "stderr",
          "output_type": "stream",
          "text": [
            "Epoch 131/200: 100%|██████████| 98/98 [00:10<00:00,  9.68it/s, loss=0.0315, lr=6.42e-5]\n"
          ]
        },
        {
          "name": "stdout",
          "output_type": "stream",
          "text": [
            "Checkpoint saved to diffusion_checkpoint.pt\n"
          ]
        },
        {
          "name": "stderr",
          "output_type": "stream",
          "text": [
            "Epoch 132/200: 100%|██████████| 98/98 [00:10<00:00,  9.68it/s, loss=0.0309, lr=6.25e-5]\n"
          ]
        },
        {
          "name": "stdout",
          "output_type": "stream",
          "text": [
            "Checkpoint saved to diffusion_checkpoint.pt\n"
          ]
        },
        {
          "name": "stderr",
          "output_type": "stream",
          "text": [
            "Epoch 133/200: 100%|██████████| 98/98 [00:10<00:00,  9.69it/s, loss=0.0311, lr=6.09e-5]\n"
          ]
        },
        {
          "name": "stdout",
          "output_type": "stream",
          "text": [
            "Checkpoint saved to diffusion_checkpoint.pt\n"
          ]
        },
        {
          "name": "stderr",
          "output_type": "stream",
          "text": [
            "Epoch 134/200: 100%|██████████| 98/98 [00:10<00:00,  9.67it/s, loss=0.0313, lr=5.93e-5]\n"
          ]
        },
        {
          "name": "stdout",
          "output_type": "stream",
          "text": [
            "Checkpoint saved to diffusion_checkpoint.pt\n"
          ]
        },
        {
          "name": "stderr",
          "output_type": "stream",
          "text": [
            "Epoch 135/200: 100%|██████████| 98/98 [00:10<00:00,  9.67it/s, loss=0.0305, lr=5.77e-5]\n"
          ]
        },
        {
          "name": "stdout",
          "output_type": "stream",
          "text": [
            "Checkpoint saved to diffusion_best_model.pt\n",
            "New best model saved with loss: 0.030506\n",
            "Checkpoint saved to diffusion_checkpoint.pt\n"
          ]
        },
        {
          "name": "stderr",
          "output_type": "stream",
          "text": [
            "Epoch 136/200: 100%|██████████| 98/98 [00:10<00:00,  9.64it/s, loss=0.0309, lr=5.62e-5]\n"
          ]
        },
        {
          "name": "stdout",
          "output_type": "stream",
          "text": [
            "Checkpoint saved to diffusion_checkpoint.pt\n"
          ]
        },
        {
          "name": "stderr",
          "output_type": "stream",
          "text": [
            "Epoch 137/200: 100%|██████████| 98/98 [00:10<00:00,  9.67it/s, loss=0.0311, lr=5.46e-5]\n"
          ]
        },
        {
          "name": "stdout",
          "output_type": "stream",
          "text": [
            "Checkpoint saved to diffusion_checkpoint.pt\n"
          ]
        },
        {
          "name": "stderr",
          "output_type": "stream",
          "text": [
            "Epoch 138/200: 100%|██████████| 98/98 [00:10<00:00,  9.67it/s, loss=0.031, lr=5.31e-5]\n"
          ]
        },
        {
          "name": "stdout",
          "output_type": "stream",
          "text": [
            "Checkpoint saved to diffusion_checkpoint.pt\n"
          ]
        },
        {
          "name": "stderr",
          "output_type": "stream",
          "text": [
            "Epoch 139/200: 100%|██████████| 98/98 [00:10<00:00,  9.67it/s, loss=0.0311, lr=5.15e-5]\n"
          ]
        },
        {
          "name": "stdout",
          "output_type": "stream",
          "text": [
            "Checkpoint saved to diffusion_checkpoint.pt\n"
          ]
        },
        {
          "name": "stderr",
          "output_type": "stream",
          "text": [
            "Epoch 140/200: 100%|██████████| 98/98 [00:10<00:00,  9.66it/s, loss=0.031, lr=5e-5]\n"
          ]
        },
        {
          "name": "stdout",
          "output_type": "stream",
          "text": [
            "Checkpoint saved to diffusion_checkpoint.pt\n"
          ]
        },
        {
          "name": "stderr",
          "output_type": "stream",
          "text": [
            "Epoch 141/200: 100%|██████████| 98/98 [00:10<00:00,  9.67it/s, loss=0.0311, lr=4.85e-5]\n"
          ]
        },
        {
          "name": "stdout",
          "output_type": "stream",
          "text": [
            "Checkpoint saved to diffusion_checkpoint.pt\n"
          ]
        },
        {
          "name": "stderr",
          "output_type": "stream",
          "text": [
            "Epoch 142/200: 100%|██████████| 98/98 [00:10<00:00,  9.68it/s, loss=0.0305, lr=4.7e-5]\n"
          ]
        },
        {
          "name": "stdout",
          "output_type": "stream",
          "text": [
            "Checkpoint saved to diffusion_checkpoint.pt\n"
          ]
        },
        {
          "name": "stderr",
          "output_type": "stream",
          "text": [
            "Epoch 143/200: 100%|██████████| 98/98 [00:10<00:00,  9.67it/s, loss=0.0309, lr=4.55e-5]\n"
          ]
        },
        {
          "name": "stdout",
          "output_type": "stream",
          "text": [
            "Checkpoint saved to diffusion_checkpoint.pt\n"
          ]
        },
        {
          "name": "stderr",
          "output_type": "stream",
          "text": [
            "Epoch 144/200: 100%|██████████| 98/98 [00:10<00:00,  9.67it/s, loss=0.0308, lr=4.41e-5]\n"
          ]
        },
        {
          "name": "stdout",
          "output_type": "stream",
          "text": [
            "Checkpoint saved to diffusion_checkpoint.pt\n"
          ]
        },
        {
          "name": "stderr",
          "output_type": "stream",
          "text": [
            "Epoch 145/200: 100%|██████████| 98/98 [00:10<00:00,  9.66it/s, loss=0.0309, lr=4.26e-5]\n"
          ]
        },
        {
          "name": "stdout",
          "output_type": "stream",
          "text": [
            "Checkpoint saved to diffusion_checkpoint.pt\n"
          ]
        },
        {
          "name": "stderr",
          "output_type": "stream",
          "text": [
            "Epoch 146/200: 100%|██████████| 98/98 [00:10<00:00,  9.68it/s, loss=0.0307, lr=4.12e-5]\n"
          ]
        },
        {
          "name": "stdout",
          "output_type": "stream",
          "text": [
            "Checkpoint saved to diffusion_checkpoint.pt\n"
          ]
        },
        {
          "name": "stderr",
          "output_type": "stream",
          "text": [
            "Epoch 147/200: 100%|██████████| 98/98 [00:10<00:00,  9.68it/s, loss=0.0307, lr=3.98e-5]\n"
          ]
        },
        {
          "name": "stdout",
          "output_type": "stream",
          "text": [
            "Checkpoint saved to diffusion_checkpoint.pt\n"
          ]
        },
        {
          "name": "stderr",
          "output_type": "stream",
          "text": [
            "Epoch 148/200: 100%|██████████| 98/98 [00:10<00:00,  9.70it/s, loss=0.0304, lr=3.84e-5]\n"
          ]
        },
        {
          "name": "stdout",
          "output_type": "stream",
          "text": [
            "Checkpoint saved to diffusion_best_model.pt\n",
            "New best model saved with loss: 0.030449\n",
            "Checkpoint saved to diffusion_checkpoint.pt\n"
          ]
        },
        {
          "name": "stderr",
          "output_type": "stream",
          "text": [
            "Epoch 149/200: 100%|██████████| 98/98 [00:10<00:00,  9.69it/s, loss=0.0308, lr=3.71e-5]\n"
          ]
        },
        {
          "name": "stdout",
          "output_type": "stream",
          "text": [
            "Checkpoint saved to diffusion_checkpoint.pt\n"
          ]
        },
        {
          "name": "stderr",
          "output_type": "stream",
          "text": [
            "Epoch 150/200: 100%|██████████| 98/98 [00:10<00:00,  9.66it/s, loss=0.0303, lr=3.57e-5]\n"
          ]
        },
        {
          "name": "stdout",
          "output_type": "stream",
          "text": [
            "Checkpoint saved to diffusion_best_model.pt\n",
            "New best model saved with loss: 0.030321\n",
            "Checkpoint saved to diffusion_checkpoint.pt\n"
          ]
        },
        {
          "name": "stderr",
          "output_type": "stream",
          "text": [
            "Epoch 151/200: 100%|██████████| 98/98 [00:10<00:00,  9.70it/s, loss=0.0307, lr=3.44e-5]\n"
          ]
        },
        {
          "name": "stdout",
          "output_type": "stream",
          "text": [
            "Checkpoint saved to diffusion_checkpoint.pt\n"
          ]
        },
        {
          "name": "stderr",
          "output_type": "stream",
          "text": [
            "Epoch 152/200: 100%|██████████| 98/98 [00:10<00:00,  9.69it/s, loss=0.0303, lr=3.31e-5]\n"
          ]
        },
        {
          "name": "stdout",
          "output_type": "stream",
          "text": [
            "Checkpoint saved to diffusion_best_model.pt\n",
            "New best model saved with loss: 0.030256\n",
            "Checkpoint saved to diffusion_checkpoint.pt\n"
          ]
        },
        {
          "name": "stderr",
          "output_type": "stream",
          "text": [
            "Epoch 153/200: 100%|██████████| 98/98 [00:10<00:00,  9.67it/s, loss=0.0305, lr=3.18e-5]\n"
          ]
        },
        {
          "name": "stdout",
          "output_type": "stream",
          "text": [
            "Checkpoint saved to diffusion_checkpoint.pt\n"
          ]
        },
        {
          "name": "stderr",
          "output_type": "stream",
          "text": [
            "Epoch 154/200: 100%|██████████| 98/98 [00:10<00:00,  9.69it/s, loss=0.0309, lr=3.05e-5]\n"
          ]
        },
        {
          "name": "stdout",
          "output_type": "stream",
          "text": [
            "Checkpoint saved to diffusion_checkpoint.pt\n"
          ]
        },
        {
          "name": "stderr",
          "output_type": "stream",
          "text": [
            "Epoch 155/200: 100%|██████████| 98/98 [00:10<00:00,  9.67it/s, loss=0.0304, lr=2.93e-5]\n"
          ]
        },
        {
          "name": "stdout",
          "output_type": "stream",
          "text": [
            "Checkpoint saved to diffusion_checkpoint.pt\n"
          ]
        },
        {
          "name": "stderr",
          "output_type": "stream",
          "text": [
            "Epoch 156/200: 100%|██████████| 98/98 [00:10<00:00,  9.68it/s, loss=0.0303, lr=2.81e-5]\n"
          ]
        },
        {
          "name": "stdout",
          "output_type": "stream",
          "text": [
            "Checkpoint saved to diffusion_checkpoint.pt\n"
          ]
        },
        {
          "name": "stderr",
          "output_type": "stream",
          "text": [
            "Epoch 157/200: 100%|██████████| 98/98 [00:10<00:00,  9.69it/s, loss=0.0305, lr=2.69e-5]\n"
          ]
        },
        {
          "name": "stdout",
          "output_type": "stream",
          "text": [
            "Checkpoint saved to diffusion_checkpoint.pt\n"
          ]
        },
        {
          "name": "stderr",
          "output_type": "stream",
          "text": [
            "Epoch 158/200: 100%|██████████| 98/98 [00:10<00:00,  9.69it/s, loss=0.0307, lr=2.57e-5]\n"
          ]
        },
        {
          "name": "stdout",
          "output_type": "stream",
          "text": [
            "Checkpoint saved to diffusion_checkpoint.pt\n"
          ]
        },
        {
          "name": "stderr",
          "output_type": "stream",
          "text": [
            "Epoch 159/200: 100%|██████████| 98/98 [00:10<00:00,  9.69it/s, loss=0.0311, lr=2.45e-5]\n"
          ]
        },
        {
          "name": "stdout",
          "output_type": "stream",
          "text": [
            "Checkpoint saved to diffusion_checkpoint.pt\n"
          ]
        },
        {
          "name": "stderr",
          "output_type": "stream",
          "text": [
            "Epoch 160/200: 100%|██████████| 98/98 [00:10<00:00,  9.69it/s, loss=0.0303, lr=2.34e-5]\n"
          ]
        },
        {
          "name": "stdout",
          "output_type": "stream",
          "text": [
            "Checkpoint saved to diffusion_checkpoint.pt\n"
          ]
        },
        {
          "name": "stderr",
          "output_type": "stream",
          "text": [
            "Epoch 161/200: 100%|██████████| 98/98 [00:10<00:00,  9.68it/s, loss=0.0304, lr=2.23e-5]\n"
          ]
        },
        {
          "name": "stdout",
          "output_type": "stream",
          "text": [
            "Checkpoint saved to diffusion_checkpoint.pt\n"
          ]
        },
        {
          "name": "stderr",
          "output_type": "stream",
          "text": [
            "Epoch 162/200: 100%|██████████| 98/98 [00:10<00:00,  9.69it/s, loss=0.0303, lr=2.12e-5]\n"
          ]
        },
        {
          "name": "stdout",
          "output_type": "stream",
          "text": [
            "Checkpoint saved to diffusion_checkpoint.pt\n"
          ]
        },
        {
          "name": "stderr",
          "output_type": "stream",
          "text": [
            "Epoch 163/200: 100%|██████████| 98/98 [00:10<00:00,  9.69it/s, loss=0.0303, lr=2.01e-5]\n"
          ]
        },
        {
          "name": "stdout",
          "output_type": "stream",
          "text": [
            "Checkpoint saved to diffusion_checkpoint.pt\n"
          ]
        },
        {
          "name": "stderr",
          "output_type": "stream",
          "text": [
            "Epoch 164/200: 100%|██████████| 98/98 [00:10<00:00,  9.70it/s, loss=0.0306, lr=1.91e-5]\n"
          ]
        },
        {
          "name": "stdout",
          "output_type": "stream",
          "text": [
            "Checkpoint saved to diffusion_checkpoint.pt\n"
          ]
        },
        {
          "name": "stderr",
          "output_type": "stream",
          "text": [
            "Epoch 165/200: 100%|██████████| 98/98 [00:10<00:00,  9.69it/s, loss=0.0305, lr=1.81e-5]\n"
          ]
        },
        {
          "name": "stdout",
          "output_type": "stream",
          "text": [
            "Checkpoint saved to diffusion_checkpoint.pt\n"
          ]
        },
        {
          "name": "stderr",
          "output_type": "stream",
          "text": [
            "Epoch 166/200: 100%|██████████| 98/98 [00:10<00:00,  9.68it/s, loss=0.0305, lr=1.71e-5]\n"
          ]
        },
        {
          "name": "stdout",
          "output_type": "stream",
          "text": [
            "Checkpoint saved to diffusion_checkpoint.pt\n"
          ]
        },
        {
          "name": "stderr",
          "output_type": "stream",
          "text": [
            "Epoch 167/200: 100%|██████████| 98/98 [00:10<00:00,  9.63it/s, loss=0.0302, lr=1.61e-5]\n"
          ]
        },
        {
          "name": "stdout",
          "output_type": "stream",
          "text": [
            "Checkpoint saved to diffusion_best_model.pt\n",
            "New best model saved with loss: 0.030189\n",
            "Checkpoint saved to diffusion_checkpoint.pt\n"
          ]
        },
        {
          "name": "stderr",
          "output_type": "stream",
          "text": [
            "Epoch 168/200: 100%|██████████| 98/98 [00:10<00:00,  9.69it/s, loss=0.0304, lr=1.52e-5]\n"
          ]
        },
        {
          "name": "stdout",
          "output_type": "stream",
          "text": [
            "Checkpoint saved to diffusion_checkpoint.pt\n"
          ]
        },
        {
          "name": "stderr",
          "output_type": "stream",
          "text": [
            "Epoch 169/200: 100%|██████████| 98/98 [00:10<00:00,  9.69it/s, loss=0.0303, lr=1.43e-5]\n"
          ]
        },
        {
          "name": "stdout",
          "output_type": "stream",
          "text": [
            "Checkpoint saved to diffusion_checkpoint.pt\n"
          ]
        },
        {
          "name": "stderr",
          "output_type": "stream",
          "text": [
            "Epoch 170/200: 100%|██████████| 98/98 [00:10<00:00,  9.68it/s, loss=0.0306, lr=1.34e-5]\n"
          ]
        },
        {
          "name": "stdout",
          "output_type": "stream",
          "text": [
            "Checkpoint saved to diffusion_checkpoint.pt\n"
          ]
        },
        {
          "name": "stderr",
          "output_type": "stream",
          "text": [
            "Epoch 171/200: 100%|██████████| 98/98 [00:10<00:00,  9.69it/s, loss=0.0306, lr=1.25e-5]\n"
          ]
        },
        {
          "name": "stdout",
          "output_type": "stream",
          "text": [
            "Checkpoint saved to diffusion_checkpoint.pt\n"
          ]
        },
        {
          "name": "stderr",
          "output_type": "stream",
          "text": [
            "Epoch 172/200: 100%|██████████| 98/98 [00:10<00:00,  9.64it/s, loss=0.0305, lr=1.17e-5]\n"
          ]
        },
        {
          "name": "stdout",
          "output_type": "stream",
          "text": [
            "Checkpoint saved to diffusion_checkpoint.pt\n"
          ]
        },
        {
          "name": "stderr",
          "output_type": "stream",
          "text": [
            "Epoch 173/200: 100%|██████████| 98/98 [00:10<00:00,  9.67it/s, loss=0.031, lr=1.09e-5]\n"
          ]
        },
        {
          "name": "stdout",
          "output_type": "stream",
          "text": [
            "Checkpoint saved to diffusion_checkpoint.pt\n"
          ]
        },
        {
          "name": "stderr",
          "output_type": "stream",
          "text": [
            "Epoch 174/200: 100%|██████████| 98/98 [00:10<00:00,  9.61it/s, loss=0.0301, lr=1.01e-5]\n"
          ]
        },
        {
          "name": "stdout",
          "output_type": "stream",
          "text": [
            "Checkpoint saved to diffusion_best_model.pt\n",
            "New best model saved with loss: 0.030118\n",
            "Checkpoint saved to diffusion_checkpoint.pt\n"
          ]
        },
        {
          "name": "stderr",
          "output_type": "stream",
          "text": [
            "Epoch 175/200: 100%|██████████| 98/98 [00:10<00:00,  9.64it/s, loss=0.0299, lr=9.37e-6]\n"
          ]
        },
        {
          "name": "stdout",
          "output_type": "stream",
          "text": [
            "Checkpoint saved to diffusion_best_model.pt\n",
            "New best model saved with loss: 0.029891\n",
            "Checkpoint saved to diffusion_checkpoint.pt\n"
          ]
        },
        {
          "name": "stderr",
          "output_type": "stream",
          "text": [
            "Epoch 176/200: 100%|██████████| 98/98 [00:10<00:00,  9.66it/s, loss=0.0305, lr=8.65e-6]\n"
          ]
        },
        {
          "name": "stdout",
          "output_type": "stream",
          "text": [
            "Checkpoint saved to diffusion_checkpoint.pt\n"
          ]
        },
        {
          "name": "stderr",
          "output_type": "stream",
          "text": [
            "Epoch 177/200: 100%|██████████| 98/98 [00:10<00:00,  9.62it/s, loss=0.0304, lr=7.95e-6]\n"
          ]
        },
        {
          "name": "stdout",
          "output_type": "stream",
          "text": [
            "Checkpoint saved to diffusion_checkpoint.pt\n"
          ]
        },
        {
          "name": "stderr",
          "output_type": "stream",
          "text": [
            "Epoch 178/200: 100%|██████████| 98/98 [00:10<00:00,  9.60it/s, loss=0.0297, lr=7.28e-6]\n"
          ]
        },
        {
          "name": "stdout",
          "output_type": "stream",
          "text": [
            "Checkpoint saved to diffusion_best_model.pt\n",
            "New best model saved with loss: 0.029730\n",
            "Checkpoint saved to diffusion_checkpoint.pt\n"
          ]
        },
        {
          "name": "stderr",
          "output_type": "stream",
          "text": [
            "Epoch 179/200: 100%|██████████| 98/98 [00:10<00:00,  9.61it/s, loss=0.0302, lr=6.64e-6]\n"
          ]
        },
        {
          "name": "stdout",
          "output_type": "stream",
          "text": [
            "Checkpoint saved to diffusion_checkpoint.pt\n"
          ]
        },
        {
          "name": "stderr",
          "output_type": "stream",
          "text": [
            "Epoch 180/200: 100%|██████████| 98/98 [00:10<00:00,  9.64it/s, loss=0.0307, lr=6.03e-6]\n"
          ]
        },
        {
          "name": "stdout",
          "output_type": "stream",
          "text": [
            "Checkpoint saved to diffusion_checkpoint.pt\n"
          ]
        },
        {
          "name": "stderr",
          "output_type": "stream",
          "text": [
            "Epoch 181/200: 100%|██████████| 98/98 [00:10<00:00,  9.62it/s, loss=0.0303, lr=5.45e-6]\n"
          ]
        },
        {
          "name": "stdout",
          "output_type": "stream",
          "text": [
            "Checkpoint saved to diffusion_checkpoint.pt\n"
          ]
        },
        {
          "name": "stderr",
          "output_type": "stream",
          "text": [
            "Epoch 182/200: 100%|██████████| 98/98 [00:10<00:00,  9.63it/s, loss=0.0305, lr=4.89e-6]\n"
          ]
        },
        {
          "name": "stdout",
          "output_type": "stream",
          "text": [
            "Checkpoint saved to diffusion_checkpoint.pt\n"
          ]
        },
        {
          "name": "stderr",
          "output_type": "stream",
          "text": [
            "Epoch 183/200: 100%|██████████| 98/98 [00:10<00:00,  9.64it/s, loss=0.0307, lr=4.37e-6]\n"
          ]
        },
        {
          "name": "stdout",
          "output_type": "stream",
          "text": [
            "Checkpoint saved to diffusion_checkpoint.pt\n"
          ]
        },
        {
          "name": "stderr",
          "output_type": "stream",
          "text": [
            "Epoch 184/200: 100%|██████████| 98/98 [00:10<00:00,  9.64it/s, loss=0.0303, lr=3.87e-6]\n"
          ]
        },
        {
          "name": "stdout",
          "output_type": "stream",
          "text": [
            "Checkpoint saved to diffusion_checkpoint.pt\n"
          ]
        },
        {
          "name": "stderr",
          "output_type": "stream",
          "text": [
            "Epoch 185/200: 100%|██████████| 98/98 [00:10<00:00,  9.63it/s, loss=0.0304, lr=3.41e-6]\n"
          ]
        },
        {
          "name": "stdout",
          "output_type": "stream",
          "text": [
            "Checkpoint saved to diffusion_checkpoint.pt\n"
          ]
        },
        {
          "name": "stderr",
          "output_type": "stream",
          "text": [
            "Epoch 186/200: 100%|██████████| 98/98 [00:10<00:00,  9.65it/s, loss=0.0307, lr=2.97e-6]\n"
          ]
        },
        {
          "name": "stdout",
          "output_type": "stream",
          "text": [
            "Checkpoint saved to diffusion_checkpoint.pt\n"
          ]
        },
        {
          "name": "stderr",
          "output_type": "stream",
          "text": [
            "Epoch 187/200: 100%|██████████| 98/98 [00:10<00:00,  9.62it/s, loss=0.0303, lr=2.56e-6]\n"
          ]
        },
        {
          "name": "stdout",
          "output_type": "stream",
          "text": [
            "Checkpoint saved to diffusion_checkpoint.pt\n"
          ]
        },
        {
          "name": "stderr",
          "output_type": "stream",
          "text": [
            "Epoch 188/200: 100%|██████████| 98/98 [00:10<00:00,  9.65it/s, loss=0.0306, lr=2.19e-6]\n"
          ]
        },
        {
          "name": "stdout",
          "output_type": "stream",
          "text": [
            "Checkpoint saved to diffusion_checkpoint.pt\n"
          ]
        },
        {
          "name": "stderr",
          "output_type": "stream",
          "text": [
            "Epoch 189/200: 100%|██████████| 98/98 [00:10<00:00,  9.62it/s, loss=0.0297, lr=1.84e-6]\n"
          ]
        },
        {
          "name": "stdout",
          "output_type": "stream",
          "text": [
            "Checkpoint saved to diffusion_checkpoint.pt\n"
          ]
        },
        {
          "name": "stderr",
          "output_type": "stream",
          "text": [
            "Epoch 190/200: 100%|██████████| 98/98 [00:10<00:00,  9.63it/s, loss=0.0303, lr=1.52e-6]\n"
          ]
        },
        {
          "name": "stdout",
          "output_type": "stream",
          "text": [
            "Checkpoint saved to diffusion_checkpoint.pt\n"
          ]
        },
        {
          "name": "stderr",
          "output_type": "stream",
          "text": [
            "Epoch 191/200: 100%|██████████| 98/98 [00:10<00:00,  9.65it/s, loss=0.0307, lr=1.23e-6]\n"
          ]
        },
        {
          "name": "stdout",
          "output_type": "stream",
          "text": [
            "Checkpoint saved to diffusion_checkpoint.pt\n"
          ]
        },
        {
          "name": "stderr",
          "output_type": "stream",
          "text": [
            "Epoch 192/200: 100%|██████████| 98/98 [00:10<00:00,  9.62it/s, loss=0.0299, lr=9.73e-7]\n"
          ]
        },
        {
          "name": "stdout",
          "output_type": "stream",
          "text": [
            "Checkpoint saved to diffusion_checkpoint.pt\n"
          ]
        },
        {
          "name": "stderr",
          "output_type": "stream",
          "text": [
            "Epoch 193/200: 100%|██████████| 98/98 [00:10<00:00,  9.62it/s, loss=0.0303, lr=7.45e-7]\n"
          ]
        },
        {
          "name": "stdout",
          "output_type": "stream",
          "text": [
            "Checkpoint saved to diffusion_checkpoint.pt\n"
          ]
        },
        {
          "name": "stderr",
          "output_type": "stream",
          "text": [
            "Epoch 194/200: 100%|██████████| 98/98 [00:10<00:00,  9.65it/s, loss=0.0303, lr=5.48e-7]\n"
          ]
        },
        {
          "name": "stdout",
          "output_type": "stream",
          "text": [
            "Checkpoint saved to diffusion_checkpoint.pt\n"
          ]
        },
        {
          "name": "stderr",
          "output_type": "stream",
          "text": [
            "Epoch 195/200: 100%|██████████| 98/98 [00:10<00:00,  9.63it/s, loss=0.0302, lr=3.81e-7]\n"
          ]
        },
        {
          "name": "stdout",
          "output_type": "stream",
          "text": [
            "Checkpoint saved to diffusion_checkpoint.pt\n"
          ]
        },
        {
          "name": "stderr",
          "output_type": "stream",
          "text": [
            "Epoch 196/200: 100%|██████████| 98/98 [00:10<00:00,  9.65it/s, loss=0.0298, lr=2.44e-7]\n"
          ]
        },
        {
          "name": "stdout",
          "output_type": "stream",
          "text": [
            "Checkpoint saved to diffusion_checkpoint.pt\n"
          ]
        },
        {
          "name": "stderr",
          "output_type": "stream",
          "text": [
            "Epoch 197/200: 100%|██████████| 98/98 [00:10<00:00,  9.64it/s, loss=0.0302, lr=1.37e-7]\n"
          ]
        },
        {
          "name": "stdout",
          "output_type": "stream",
          "text": [
            "Checkpoint saved to diffusion_checkpoint.pt\n"
          ]
        },
        {
          "name": "stderr",
          "output_type": "stream",
          "text": [
            "Epoch 198/200: 100%|██████████| 98/98 [00:10<00:00,  9.63it/s, loss=0.0302, lr=6.09e-8]\n"
          ]
        },
        {
          "name": "stdout",
          "output_type": "stream",
          "text": [
            "Checkpoint saved to diffusion_checkpoint.pt\n"
          ]
        },
        {
          "name": "stderr",
          "output_type": "stream",
          "text": [
            "Epoch 199/200: 100%|██████████| 98/98 [00:10<00:00,  9.64it/s, loss=0.0303, lr=1.52e-8]\n"
          ]
        },
        {
          "name": "stdout",
          "output_type": "stream",
          "text": [
            "Checkpoint saved to diffusion_checkpoint.pt\n"
          ]
        },
        {
          "name": "stderr",
          "output_type": "stream",
          "text": [
            "Epoch 200/200: 100%|██████████| 98/98 [00:10<00:00,  9.67it/s, loss=0.0301, lr=0]\n"
          ]
        },
        {
          "name": "stdout",
          "output_type": "stream",
          "text": [
            "Checkpoint saved to diffusion_checkpoint.pt\n",
            "Training completed!\n"
          ]
        }
      ],
      "source": [
        "import torch\n",
        "import torch.nn as nn\n",
        "import torch.nn.functional as F\n",
        "import numpy as np\n",
        "import math\n",
        "from tqdm import tqdm\n",
        "import torchvision\n",
        "import torchvision.transforms as transforms\n",
        "from torch.utils.data import DataLoader\n",
        "import os\n",
        "import gc\n",
        "import copy\n",
        "\n",
        "# Hyperparameters\n",
        "NUM_EPOCHS = 200\n",
        "BATCH_SIZE = 512\n",
        "LEARNING_RATE = 2e-4\n",
        "IMAGE_SIZE = 32  # CIFAR10\n",
        "CHANNELS = 3\n",
        "TIMESTEPS = 1000\n",
        "BETA_START = 1e-4\n",
        "BETA_END = 0.02\n",
        "DEVICE = \"cuda\" if torch.cuda.is_available() else \"cpu\"\n",
        "SAVE_INTERVAL = 1  # Save every epoch\n",
        "CHECKPOINT_PATH = \"diffusion_checkpoint.pt\"\n",
        "BEST_MODEL_PATH = \"diffusion_best_model.pt\"\n",
        "EMA_DECAY = 0.9999  # For EMA model weights\n",
        "BASE_CHANNELS = 64  # Increased from 32 for better capacity\n",
        "\n",
        "# Helper functions\n",
        "def extract(a, t, shape):\n",
        "    \"\"\"Extract values from a tensor at specific timesteps.\"\"\"\n",
        "    batch_size = t.shape[0]\n",
        "    out = a.gather(-1, t)\n",
        "    return out.reshape(batch_size, *((1,) * (len(shape) - 1)))\n",
        "\n",
        "# Memory management function\n",
        "def clear_memory():\n",
        "    \"\"\"Clear CUDA cache to free up memory.\"\"\"\n",
        "    gc.collect()\n",
        "    torch.cuda.empty_cache()\n",
        "\n",
        "# Create cosine learning rate scheduler\n",
        "def get_cosine_schedule(optimizer, num_warmup_steps, num_training_steps, num_cycles=0.5, last_epoch=-1):\n",
        "    \"\"\"Create a cosine LR schedule with warmup.\"\"\"\n",
        "    def lr_lambda(current_step):\n",
        "        if current_step < num_warmup_steps:\n",
        "            return float(current_step) / float(max(1, num_warmup_steps))\n",
        "        progress = float(current_step - num_warmup_steps) / float(max(1, num_training_steps - num_warmup_steps))\n",
        "        return max(0.0, 0.5 * (1.0 + math.cos(math.pi * float(num_cycles) * 2.0 * progress)))\n",
        "\n",
        "    return torch.optim.lr_scheduler.LambdaLR(optimizer, lr_lambda, last_epoch)\n",
        "\n",
        "# Self-attention module for diffusion model\n",
        "class SelfAttention(nn.Module):\n",
        "    def __init__(self, channels):\n",
        "        super().__init__()\n",
        "        self.channels = channels\n",
        "        self.mha = nn.MultiheadAttention(channels, 4, batch_first=True)\n",
        "        self.ln = nn.LayerNorm([channels])\n",
        "        self.ff_self = nn.Sequential(\n",
        "            nn.LayerNorm([channels]),\n",
        "            nn.Linear(channels, channels),\n",
        "            nn.GELU(),\n",
        "            nn.Linear(channels, channels),\n",
        "        )\n",
        "\n",
        "    def forward(self, x):\n",
        "        size = x.shape[-2:]\n",
        "        x = x.flatten(-2, -1).permute(0, 2, 1)  # (B, C, H*W) -> (B, H*W, C)\n",
        "        x_ln = self.ln(x)\n",
        "        attention_value, _ = self.mha(x_ln, x_ln, x_ln)\n",
        "        attention_value = attention_value + x\n",
        "        attention_value = self.ff_self(attention_value) + attention_value\n",
        "        attention_value = attention_value.permute(0, 2, 1).view(-1, self.channels, *size)  # (B, H*W, C) -> (B, C, H, W)\n",
        "        return attention_value\n",
        "\n",
        "# Create noise scheduler\n",
        "class NoiseScheduler:\n",
        "    def __init__(self, timesteps=1000, beta_start=1e-4, beta_end=0.02, device=\"cuda\"):\n",
        "        \"\"\"Initialize diffusion process parameters.\"\"\"\n",
        "        self.timesteps = timesteps\n",
        "\n",
        "        # Define forward process variances (betas)\n",
        "        self.betas = torch.linspace(beta_start, beta_end, timesteps).to(device)\n",
        "\n",
        "        # Calculate alphas and other constants\n",
        "        self.alphas = 1 - self.betas\n",
        "        self.alphas_cumprod = torch.cumprod(self.alphas, dim=0)\n",
        "        self.alphas_cumprod_prev = torch.cat([torch.tensor([1.0]).to(device), self.alphas_cumprod[:-1]])\n",
        "\n",
        "        # Constants for inference\n",
        "        self.sqrt_alphas_cumprod = torch.sqrt(self.alphas_cumprod)\n",
        "        self.sqrt_one_minus_alphas_cumprod = torch.sqrt(1 - self.alphas_cumprod)\n",
        "\n",
        "        # For posterior q(x_{t-1} | x_t, x_0)\n",
        "        self.posterior_variance = self.betas * (1 - self.alphas_cumprod_prev) / (1 - self.alphas_cumprod)\n",
        "\n",
        "    def q_sample(self, x_0, t, noise=None):\n",
        "        \"\"\"Sample from q(x_t | x_0) - the forward diffusion process.\"\"\"\n",
        "        if noise is None:\n",
        "            noise = torch.randn_like(x_0)\n",
        "\n",
        "        # Extract the appropriate timestep values\n",
        "        sqrt_alphas_cumprod_t = extract(self.sqrt_alphas_cumprod, t, x_0.shape)\n",
        "        sqrt_one_minus_alphas_cumprod_t = extract(self.sqrt_one_minus_alphas_cumprod, t, x_0.shape)\n",
        "\n",
        "        # Equation (4) from the DDPM paper\n",
        "        return sqrt_alphas_cumprod_t * x_0 + sqrt_one_minus_alphas_cumprod_t * noise\n",
        "\n",
        "    def loss_fn(self, model, x_0, t, noise=None):\n",
        "        \"\"\"Calculate the denoising loss (Lsimple from paper Section 3.4).\"\"\"\n",
        "        if noise is None:\n",
        "            noise = torch.randn_like(x_0)\n",
        "\n",
        "        # Get noisy sample x_t\n",
        "        x_t = self.q_sample(x_0, t, noise)\n",
        "\n",
        "        # Get model's predicted noise\n",
        "        pred_noise = model(x_t, t)\n",
        "\n",
        "        # Calculate MSE loss between actual and predicted noise\n",
        "        return F.mse_loss(pred_noise, noise)\n",
        "\n",
        "# Time embedding module\n",
        "class SinusoidalTimeEmbedding(nn.Module):\n",
        "    def __init__(self, dim):\n",
        "        super().__init__()\n",
        "        self.dim = dim\n",
        "\n",
        "    def forward(self, t):\n",
        "        half_dim = self.dim // 2\n",
        "        embeddings = math.log(10000) / (half_dim - 1)\n",
        "        embeddings = torch.exp(torch.arange(half_dim, device=t.device) * -embeddings)\n",
        "        embeddings = t[:, None] * embeddings[None, :]\n",
        "        embeddings = torch.cat((embeddings.sin(), embeddings.cos()), dim=-1)\n",
        "        return embeddings\n",
        "\n",
        "# Improved U-Net model with attention\n",
        "class ImprovedUNet(nn.Module):\n",
        "    def __init__(self, in_channels=3, out_channels=3, base_channels=64):\n",
        "        super().__init__()\n",
        "\n",
        "        # Time embedding\n",
        "        self.time_mlp = nn.Sequential(\n",
        "            SinusoidalTimeEmbedding(base_channels),\n",
        "            nn.Linear(base_channels, base_channels * 4),\n",
        "            nn.GELU(),\n",
        "            nn.Linear(base_channels * 4, base_channels * 4)\n",
        "        )\n",
        "\n",
        "        # Initial convolution\n",
        "        self.init_conv = nn.Conv2d(in_channels, base_channels, 3, padding=1)\n",
        "\n",
        "        # Downsampling\n",
        "        self.down1 = nn.Sequential(\n",
        "            nn.Conv2d(base_channels, base_channels * 2, 3, padding=1),\n",
        "            nn.GroupNorm(8, base_channels * 2),\n",
        "            nn.GELU(),\n",
        "            nn.Conv2d(base_channels * 2, base_channels * 2, 4, stride=2, padding=1)  # 32 -> 16\n",
        "        )\n",
        "\n",
        "        self.down2 = nn.Sequential(\n",
        "            nn.Conv2d(base_channels * 2, base_channels * 4, 3, padding=1),\n",
        "            nn.GroupNorm(8, base_channels * 4),\n",
        "            nn.GELU(),\n",
        "            nn.Conv2d(base_channels * 4, base_channels * 4, 4, stride=2, padding=1)  # 16 -> 8\n",
        "        )\n",
        "\n",
        "        # New deeper downsampling layer\n",
        "        self.down3 = nn.Sequential(\n",
        "            nn.Conv2d(base_channels * 4, base_channels * 8, 3, padding=1),\n",
        "            nn.GroupNorm(8, base_channels * 8),\n",
        "            nn.GELU(),\n",
        "            nn.Conv2d(base_channels * 8, base_channels * 8, 4, stride=2, padding=1)  # 8 -> 4\n",
        "        )\n",
        "\n",
        "        # Attention layers at lower resolutions\n",
        "        self.attn1 = SelfAttention(base_channels * 4)  # At 8x8 resolution\n",
        "        self.attn2 = SelfAttention(base_channels * 8)  # At 4x4 resolution\n",
        "\n",
        "        # Middle\n",
        "        self.middle = nn.Sequential(\n",
        "            nn.Conv2d(base_channels * 8, base_channels * 8, 3, padding=1),\n",
        "            nn.GroupNorm(8, base_channels * 8),\n",
        "            nn.GELU(),\n",
        "            SelfAttention(base_channels * 8),  # Attention in the middle\n",
        "            nn.Conv2d(base_channels * 8, base_channels * 8, 3, padding=1),\n",
        "            nn.GroupNorm(8, base_channels * 8),\n",
        "            nn.GELU(),\n",
        "            nn.Conv2d(base_channels * 8, base_channels * 8, 3, padding=1)\n",
        "        )\n",
        "\n",
        "        # Time projection layers\n",
        "        self.time_proj1 = nn.Linear(base_channels * 4, base_channels)\n",
        "        self.time_proj2 = nn.Linear(base_channels * 4, base_channels * 2)\n",
        "        self.time_proj3 = nn.Linear(base_channels * 4, base_channels * 4)\n",
        "        self.time_proj4 = nn.Linear(base_channels * 4, base_channels * 8)\n",
        "        self.time_proj5 = nn.Linear(base_channels * 4, base_channels * 8)\n",
        "\n",
        "        # Upsampling with attention - FIXED CHANNEL DIMENSIONS\n",
        "        # New upsampling layer from lowest resolution\n",
        "        self.up0 = nn.Sequential(\n",
        "            # Input: concat of middle(8*bc) and down3(8*bc) -> 16*bc channels\n",
        "            nn.ConvTranspose2d(base_channels * 16, base_channels * 8, 4, stride=2, padding=1),  # 4 -> 8\n",
        "            nn.GroupNorm(8, base_channels * 8),\n",
        "            nn.GELU()\n",
        "        )\n",
        "\n",
        "        self.up1 = nn.Sequential(\n",
        "            # Input: concat of up0(8*bc) and down2(4*bc) -> 12*bc channels\n",
        "            nn.ConvTranspose2d(base_channels * 12, base_channels * 4, 4, stride=2, padding=1),  # 8 -> 16\n",
        "            nn.GroupNorm(8, base_channels * 4),\n",
        "            nn.GELU()\n",
        "        )\n",
        "\n",
        "        self.up2 = nn.Sequential(\n",
        "            # Input: concat of up1(4*bc) and down1(2*bc) -> 6*bc channels\n",
        "            nn.ConvTranspose2d(base_channels * 6, base_channels * 2, 4, stride=2, padding=1),  # 16 -> 32\n",
        "            nn.GroupNorm(8, base_channels * 2),\n",
        "            nn.GELU()\n",
        "        )\n",
        "\n",
        "        # Final layers\n",
        "        self.final = nn.Sequential(\n",
        "            nn.Conv2d(base_channels * 3, base_channels, 3, padding=1),\n",
        "            nn.GroupNorm(8, base_channels),\n",
        "            nn.GELU(),\n",
        "            nn.Conv2d(base_channels, out_channels, 3, padding=1)\n",
        "        )\n",
        "\n",
        "    def forward(self, x, t):\n",
        "        # Time embedding\n",
        "        t = t.unsqueeze(-1).type(torch.float)\n",
        "        t = self.time_mlp(t)  # Shape [batch_size, base_channels * 4]\n",
        "        t = t.squeeze(1)  # Remove extra dimension if needed\n",
        "\n",
        "        # Initial features\n",
        "        x0 = self.init_conv(x)  # Shape [batch_size, base_channels, H, W]\n",
        "\n",
        "        # Add time information\n",
        "        t0 = self.time_proj1(t)\n",
        "        t0 = t0.view(t0.shape[0], t0.shape[1], 1, 1)  # Reshape to [batch_size, base_channels, 1, 1]\n",
        "        x0 = x0 + t0\n",
        "\n",
        "        # Downsample\n",
        "        x1 = self.down1(x0)\n",
        "        t1 = self.time_proj2(t)\n",
        "        t1 = t1.view(t1.shape[0], t1.shape[1], 1, 1)\n",
        "        x1 = x1 + t1\n",
        "\n",
        "        x2 = self.down2(x1)\n",
        "        t2 = self.time_proj3(t)\n",
        "        t2 = t2.view(t2.shape[0], t2.shape[1], 1, 1)\n",
        "        x2 = x2 + t2\n",
        "\n",
        "        # Apply attention at 8x8 resolution\n",
        "        x2 = self.attn1(x2)\n",
        "\n",
        "        # New deeper path - downsample to 4x4\n",
        "        x3 = self.down3(x2)\n",
        "        t3 = self.time_proj4(t)\n",
        "        t3 = t3.view(t3.shape[0], t3.shape[1], 1, 1)\n",
        "        x3 = x3 + t3\n",
        "\n",
        "        # Apply attention at 4x4 resolution\n",
        "        x3 = self.attn2(x3)\n",
        "\n",
        "        # Middle\n",
        "        xm = self.middle(x3)\n",
        "        t4 = self.time_proj5(t)\n",
        "        t4 = t4.view(t4.shape[0], t4.shape[1], 1, 1)\n",
        "        xm = xm + t4\n",
        "\n",
        "        # Upsample with skip connections\n",
        "        # xm and x3 both have 8*base_channels -> concat to 16*base_channels\n",
        "        x_up0 = self.up0(torch.cat([xm, x3], dim=1))  # 16*bc -> 8*bc\n",
        "\n",
        "        # x_up0 has 8*bc, x2 has 4*bc -> concat to 12*bc\n",
        "        x_up1 = self.up1(torch.cat([x_up0, x2], dim=1))  # 12*bc -> 4*bc\n",
        "\n",
        "        # x_up1 has 4*bc, x1 has 2*bc -> concat to 6*bc\n",
        "        x_up2 = self.up2(torch.cat([x_up1, x1], dim=1))  # 6*bc -> 2*bc\n",
        "\n",
        "        # Final: x_up2 has 2*bc, x0 has 1*bc -> concat to 3*bc\n",
        "        output = self.final(torch.cat([x_up2, x0], dim=1))  # 3*bc -> out_channels\n",
        "\n",
        "        return output\n",
        "\n",
        "# EMA (Exponential Moving Average) for model weights\n",
        "class EMAModel:\n",
        "    def __init__(self, model, decay=0.9999):\n",
        "        self.model = copy.deepcopy(model)\n",
        "        self.model.eval()\n",
        "        self.decay = decay\n",
        "        self.model.requires_grad_(False)\n",
        "\n",
        "    def update(self, model):\n",
        "        with torch.no_grad():\n",
        "            for ema_param, param in zip(self.model.parameters(), model.parameters()):\n",
        "                ema_param.data.mul_(self.decay).add_(param.data, alpha=1 - self.decay)\n",
        "\n",
        "            for ema_buffer, buffer in zip(self.model.buffers(), model.buffers()):\n",
        "                ema_buffer.copy_(buffer)\n",
        "\n",
        "# Training function with memory optimization\n",
        "def train_epoch(model, ema_model, scheduler, dataloader, optimizer, epoch, lr_scheduler):\n",
        "    model.train()\n",
        "    epoch_loss = 0\n",
        "\n",
        "    with tqdm(dataloader, desc=f\"Epoch {epoch+1}/{NUM_EPOCHS}\") as pbar:\n",
        "        for batch_idx, (images, _) in enumerate(pbar):\n",
        "            images = images.to(DEVICE)\n",
        "            batch_size = images.shape[0]\n",
        "\n",
        "            # Sample random timesteps\n",
        "            t = torch.randint(0, TIMESTEPS, (batch_size,), device=DEVICE, dtype=torch.long)\n",
        "\n",
        "            # Calculate loss\n",
        "            optimizer.zero_grad()\n",
        "            loss = scheduler.loss_fn(model, images, t)\n",
        "\n",
        "            # Backpropagation\n",
        "            loss.backward()\n",
        "            optimizer.step()\n",
        "\n",
        "            # Update EMA model\n",
        "            ema_model.update(model)\n",
        "\n",
        "            # Update learning rate\n",
        "            lr_scheduler.step()\n",
        "\n",
        "            # Update metrics\n",
        "            epoch_loss += loss.item()\n",
        "            pbar.set_postfix({\"loss\": epoch_loss / (batch_idx + 1), \"lr\": optimizer.param_groups[0]['lr']})\n",
        "\n",
        "            # Free memory occasionally\n",
        "            if batch_idx % 100 == 0:\n",
        "                clear_memory()\n",
        "\n",
        "    return epoch_loss / len(dataloader)\n",
        "\n",
        "def save_checkpoint(model, ema_model, optimizer, epoch, loss, lr_scheduler, best_loss=float('inf'), filename=CHECKPOINT_PATH):\n",
        "    checkpoint = {\n",
        "        \"model_state_dict\": model.state_dict(),\n",
        "        \"ema_model_state_dict\": ema_model.model.state_dict(),\n",
        "        \"optimizer_state_dict\": optimizer.state_dict(),\n",
        "        \"lr_scheduler_state_dict\": lr_scheduler.state_dict(),\n",
        "        \"epoch\": epoch,\n",
        "        \"loss\": loss,\n",
        "        \"best_loss\": best_loss,\n",
        "        \"scheduler_params\": {\n",
        "            \"timesteps\": TIMESTEPS,\n",
        "            \"beta_start\": BETA_START,\n",
        "            \"beta_end\": BETA_END\n",
        "        },\n",
        "        \"model_params\": {\n",
        "            \"in_channels\": CHANNELS,\n",
        "            \"out_channels\": CHANNELS,\n",
        "            \"base_channels\": BASE_CHANNELS\n",
        "        }\n",
        "    }\n",
        "    torch.save(checkpoint, filename)\n",
        "    print(f\"Checkpoint saved to {filename}\")\n",
        "\n",
        "def save_best_model(model, ema_model, optimizer, epoch, loss, lr_scheduler, best_loss, filename=BEST_MODEL_PATH):\n",
        "    if loss < best_loss:\n",
        "        save_checkpoint(model, ema_model, optimizer, epoch, loss, lr_scheduler, loss, filename)\n",
        "        print(f\"New best model saved with loss: {loss:.6f}\")\n",
        "        return loss\n",
        "    return best_loss\n",
        "\n",
        "def load_checkpoint(model, ema_model, optimizer, lr_scheduler, filename=CHECKPOINT_PATH):\n",
        "    if os.path.exists(filename):\n",
        "        checkpoint = torch.load(filename)\n",
        "        model.load_state_dict(checkpoint[\"model_state_dict\"])\n",
        "\n",
        "        if \"ema_model_state_dict\" in checkpoint:\n",
        "            ema_model.model.load_state_dict(checkpoint[\"ema_model_state_dict\"])\n",
        "\n",
        "        optimizer.load_state_dict(checkpoint[\"optimizer_state_dict\"])\n",
        "\n",
        "        if \"lr_scheduler_state_dict\" in checkpoint and lr_scheduler is not None:\n",
        "            lr_scheduler.load_state_dict(checkpoint[\"lr_scheduler_state_dict\"])\n",
        "\n",
        "        start_epoch = checkpoint[\"epoch\"] + 1\n",
        "        best_loss = checkpoint.get(\"best_loss\", float('inf'))\n",
        "        print(f\"Loaded checkpoint from epoch {checkpoint['epoch']} with loss {checkpoint['loss']:.6f}\")\n",
        "        return start_epoch, best_loss\n",
        "    else:\n",
        "        return 0, float('inf')\n",
        "\n",
        "# Training\n",
        "def train_model():\n",
        "    # Create directories\n",
        "    os.makedirs(\"samples\", exist_ok=True)\n",
        "\n",
        "    # Load CIFAR10 dataset\n",
        "    transform = transforms.Compose([\n",
        "        transforms.ToTensor(),\n",
        "        transforms.Normalize((0.5, 0.5, 0.5), (0.5, 0.5, 0.5))  # Normalize to [-1, 1]\n",
        "    ])\n",
        "\n",
        "    trainset = torchvision.datasets.CIFAR10(\n",
        "        root=\"./data\", train=True, download=True, transform=transform\n",
        "    )\n",
        "    trainloader = DataLoader(\n",
        "        trainset, batch_size=BATCH_SIZE, shuffle=True, num_workers=2\n",
        "    )\n",
        "\n",
        "    # Create improved model\n",
        "    model = ImprovedUNet(\n",
        "        in_channels=CHANNELS,\n",
        "        out_channels=CHANNELS,\n",
        "        base_channels=BASE_CHANNELS\n",
        "    ).to(DEVICE)\n",
        "\n",
        "    # Create EMA model\n",
        "    ema_model = EMAModel(model, decay=EMA_DECAY)\n",
        "\n",
        "    # Create noise scheduler\n",
        "    scheduler = NoiseScheduler(\n",
        "        timesteps=TIMESTEPS,\n",
        "        beta_start=BETA_START,\n",
        "        beta_end=BETA_END,\n",
        "        device=DEVICE\n",
        "    )\n",
        "\n",
        "    # Create optimizer\n",
        "    optimizer = torch.optim.AdamW(model.parameters(), lr=LEARNING_RATE)\n",
        "\n",
        "    # Create learning rate scheduler\n",
        "    # Calculate the total training steps\n",
        "    total_steps = NUM_EPOCHS * len(trainloader)\n",
        "    warmup_steps = int(0.1 * total_steps)  # 10% of total steps for warmup\n",
        "\n",
        "    lr_scheduler = get_cosine_schedule(\n",
        "        optimizer=optimizer,\n",
        "        num_warmup_steps=warmup_steps,\n",
        "        num_training_steps=total_steps\n",
        "    )\n",
        "\n",
        "    # Load checkpoint if exists\n",
        "    start_epoch, best_loss = load_checkpoint(model, ema_model, optimizer, lr_scheduler)\n",
        "\n",
        "    # Training loop\n",
        "    for epoch in range(start_epoch, NUM_EPOCHS):\n",
        "        # Clear memory before each epoch\n",
        "        clear_memory()\n",
        "\n",
        "        loss = train_epoch(model, ema_model, scheduler, trainloader, optimizer, epoch, lr_scheduler)\n",
        "\n",
        "        # Save best model\n",
        "        best_loss = save_best_model(model, ema_model, optimizer, epoch, loss, lr_scheduler, best_loss)\n",
        "\n",
        "        # Save regular checkpoint\n",
        "        if (epoch + 1) % SAVE_INTERVAL == 0:\n",
        "            save_checkpoint(model, ema_model, optimizer, epoch, loss, lr_scheduler, best_loss)\n",
        "\n",
        "    print(\"Training completed!\")\n",
        "\n",
        "# Run the training\n",
        "if __name__ == \"__main__\":\n",
        "    # Set memory growth\n",
        "    torch.cuda.empty_cache()\n",
        "\n",
        "    # Enable mixed precision training if available\n",
        "    if hasattr(torch.cuda, 'amp') and hasattr(torch.cuda.amp, 'autocast'):\n",
        "        print(\"Using mixed precision training\")\n",
        "\n",
        "    train_model()"
      ]
    },
    {
      "cell_type": "code",
      "execution_count": null,
      "metadata": {
        "colab": {
          "background_save": true
        },
        "id": "HFiRa5SBmYqd",
        "outputId": "e24de698-df4a-4073-eb8c-af2eceb53c91"
      },
      "outputs": [
        {
          "name": "stdout",
          "output_type": "stream",
          "text": [
            "Using EMA model weights for sampling\n",
            "Loaded model from epoch 177\n",
            "Generating batch of 4 samples\n"
          ]
        },
        {
          "name": "stderr",
          "output_type": "stream",
          "text": [
            "DDIM Sampling: 50it [00:01, 48.63it/s]\n"
          ]
        },
        {
          "name": "stdout",
          "output_type": "stream",
          "text": [
            "Generating batch of 4 samples\n"
          ]
        },
        {
          "name": "stderr",
          "output_type": "stream",
          "text": [
            "DDIM Sampling: 50it [00:00, 56.87it/s]\n"
          ]
        },
        {
          "name": "stdout",
          "output_type": "stream",
          "text": [
            "Generating batch of 4 samples\n"
          ]
        },
        {
          "name": "stderr",
          "output_type": "stream",
          "text": [
            "DDIM Sampling: 50it [00:00, 54.15it/s]\n"
          ]
        },
        {
          "name": "stdout",
          "output_type": "stream",
          "text": [
            "Generating batch of 4 samples\n"
          ]
        },
        {
          "name": "stderr",
          "output_type": "stream",
          "text": [
            "DDIM Sampling: 50it [00:00, 52.03it/s]\n"
          ]
        },
        {
          "name": "stdout",
          "output_type": "stream",
          "text": [
            "Generated 16 samples saved to samples/final_samples_epoch_177_ddim.png\n",
            "Using EMA model weights for sampling\n",
            "Loaded model from epoch 177\n",
            "Generating batch of 4 samples\n"
          ]
        },
        {
          "name": "stderr",
          "output_type": "stream",
          "text": [
            "DDPM Sampling: 1000it [00:07, 138.55it/s]\n"
          ]
        },
        {
          "name": "stdout",
          "output_type": "stream",
          "text": [
            "Generated 4 samples saved to samples/final_samples_epoch_177.png\n"
          ]
        }
      ],
      "source": [
        "import torch\n",
        "import torch.nn as nn\n",
        "import torch.nn.functional as F\n",
        "import numpy as np\n",
        "from tqdm import tqdm\n",
        "import torchvision\n",
        "import os\n",
        "import gc\n",
        "import matplotlib.pyplot as plt\n",
        "import math\n",
        "\n",
        "# Only define the necessary classes and functions for sampling\n",
        "DEVICE = \"cuda\" if torch.cuda.is_available() else \"cpu\"\n",
        "CHECKPOINT_PATH = \"diffusion_best_model.pt\"  # Use the best model for sampling\n",
        "SAMPLE_BATCH_SIZE = 4  # Very small batch size for sampling\n",
        "BASE_CHANNELS = 64  # Match the training model\n",
        "\n",
        "def clear_memory():\n",
        "    \"\"\"Clear CUDA cache to free up memory.\"\"\"\n",
        "    gc.collect()\n",
        "    torch.cuda.empty_cache()\n",
        "\n",
        "def extract(a, t, shape):\n",
        "    \"\"\"Extract values from a tensor at specific timesteps.\"\"\"\n",
        "    batch_size = t.shape[0]\n",
        "    out = a.gather(-1, t)\n",
        "    return out.reshape(batch_size, *((1,) * (len(shape) - 1)))\n",
        "\n",
        "# Time embedding module\n",
        "class SinusoidalTimeEmbedding(nn.Module):\n",
        "    def __init__(self, dim):\n",
        "        super().__init__()\n",
        "        self.dim = dim\n",
        "    def forward(self, t):\n",
        "        half_dim = self.dim // 2\n",
        "        embeddings = math.log(10000) / (half_dim - 1)\n",
        "        embeddings = torch.exp(torch.arange(half_dim, device=t.device) * -embeddings)\n",
        "        embeddings = t[:, None] * embeddings[None, :]\n",
        "        embeddings = torch.cat((embeddings.sin(), embeddings.cos()), dim=-1)\n",
        "        return embeddings\n",
        "\n",
        "# Self-attention module for diffusion model\n",
        "class SelfAttention(nn.Module):\n",
        "    def __init__(self, channels):\n",
        "        super().__init__()\n",
        "        self.channels = channels\n",
        "        self.mha = nn.MultiheadAttention(channels, 4, batch_first=True)\n",
        "        self.ln = nn.LayerNorm([channels])\n",
        "        self.ff_self = nn.Sequential(\n",
        "            nn.LayerNorm([channels]),\n",
        "            nn.Linear(channels, channels),\n",
        "            nn.GELU(),\n",
        "            nn.Linear(channels, channels),\n",
        "        )\n",
        "\n",
        "    def forward(self, x):\n",
        "        size = x.shape[-2:]\n",
        "        x = x.flatten(-2, -1).permute(0, 2, 1)  # (B, C, H*W) -> (B, H*W, C)\n",
        "        x_ln = self.ln(x)\n",
        "        attention_value, _ = self.mha(x_ln, x_ln, x_ln)\n",
        "        attention_value = attention_value + x\n",
        "        attention_value = self.ff_self(attention_value) + attention_value\n",
        "        attention_value = attention_value.permute(0, 2, 1).view(-1, self.channels, *size)  # (B, H*W, C) -> (B, C, H, W)\n",
        "        return attention_value\n",
        "\n",
        "# Improved U-Net model with attention (identical to training model)\n",
        "class ImprovedUNet(nn.Module):\n",
        "    def __init__(self, in_channels=3, out_channels=3, base_channels=64):\n",
        "        super().__init__()\n",
        "\n",
        "        # Time embedding\n",
        "        self.time_mlp = nn.Sequential(\n",
        "            SinusoidalTimeEmbedding(base_channels),\n",
        "            nn.Linear(base_channels, base_channels * 4),\n",
        "            nn.GELU(),\n",
        "            nn.Linear(base_channels * 4, base_channels * 4)\n",
        "        )\n",
        "\n",
        "        # Initial convolution\n",
        "        self.init_conv = nn.Conv2d(in_channels, base_channels, 3, padding=1)\n",
        "\n",
        "        # Downsampling\n",
        "        self.down1 = nn.Sequential(\n",
        "            nn.Conv2d(base_channels, base_channels * 2, 3, padding=1),\n",
        "            nn.GroupNorm(8, base_channels * 2),\n",
        "            nn.GELU(),\n",
        "            nn.Conv2d(base_channels * 2, base_channels * 2, 4, stride=2, padding=1)  # 32 -> 16\n",
        "        )\n",
        "\n",
        "        self.down2 = nn.Sequential(\n",
        "            nn.Conv2d(base_channels * 2, base_channels * 4, 3, padding=1),\n",
        "            nn.GroupNorm(8, base_channels * 4),\n",
        "            nn.GELU(),\n",
        "            nn.Conv2d(base_channels * 4, base_channels * 4, 4, stride=2, padding=1)  # 16 -> 8\n",
        "        )\n",
        "\n",
        "        # New deeper downsampling layer\n",
        "        self.down3 = nn.Sequential(\n",
        "            nn.Conv2d(base_channels * 4, base_channels * 8, 3, padding=1),\n",
        "            nn.GroupNorm(8, base_channels * 8),\n",
        "            nn.GELU(),\n",
        "            nn.Conv2d(base_channels * 8, base_channels * 8, 4, stride=2, padding=1)  # 8 -> 4\n",
        "        )\n",
        "\n",
        "        # Attention layers at lower resolutions\n",
        "        self.attn1 = SelfAttention(base_channels * 4)  # At 8x8 resolution\n",
        "        self.attn2 = SelfAttention(base_channels * 8)  # At 4x4 resolution\n",
        "\n",
        "        # Middle\n",
        "        self.middle = nn.Sequential(\n",
        "            nn.Conv2d(base_channels * 8, base_channels * 8, 3, padding=1),\n",
        "            nn.GroupNorm(8, base_channels * 8),\n",
        "            nn.GELU(),\n",
        "            SelfAttention(base_channels * 8),  # Attention in the middle\n",
        "            nn.Conv2d(base_channels * 8, base_channels * 8, 3, padding=1),\n",
        "            nn.GroupNorm(8, base_channels * 8),\n",
        "            nn.GELU(),\n",
        "            nn.Conv2d(base_channels * 8, base_channels * 8, 3, padding=1)\n",
        "        )\n",
        "\n",
        "        # Time projection layers\n",
        "        self.time_proj1 = nn.Linear(base_channels * 4, base_channels)\n",
        "        self.time_proj2 = nn.Linear(base_channels * 4, base_channels * 2)\n",
        "        self.time_proj3 = nn.Linear(base_channels * 4, base_channels * 4)\n",
        "        self.time_proj4 = nn.Linear(base_channels * 4, base_channels * 8)\n",
        "        self.time_proj5 = nn.Linear(base_channels * 4, base_channels * 8)\n",
        "\n",
        "        # Upsampling with attention\n",
        "        # New upsampling layer from lowest resolution\n",
        "        self.up0 = nn.Sequential(\n",
        "            nn.ConvTranspose2d(base_channels * 16, base_channels * 8, 4, stride=2, padding=1),  # 4 -> 8\n",
        "            nn.GroupNorm(8, base_channels * 8),\n",
        "            nn.GELU()\n",
        "        )\n",
        "\n",
        "        self.up1 = nn.Sequential(\n",
        "            nn.ConvTranspose2d(base_channels * 12, base_channels * 4, 4, stride=2, padding=1),  # 8 -> 16\n",
        "            nn.GroupNorm(8, base_channels * 4),\n",
        "            nn.GELU()\n",
        "        )\n",
        "\n",
        "        self.up2 = nn.Sequential(\n",
        "            nn.ConvTranspose2d(base_channels * 6, base_channels * 2, 4, stride=2, padding=1),  # 16 -> 32\n",
        "            nn.GroupNorm(8, base_channels * 2),\n",
        "            nn.GELU()\n",
        "        )\n",
        "\n",
        "        # Final layers\n",
        "        self.final = nn.Sequential(\n",
        "            nn.Conv2d(base_channels * 3, base_channels, 3, padding=1),\n",
        "            nn.GroupNorm(8, base_channels),\n",
        "            nn.GELU(),\n",
        "            nn.Conv2d(base_channels, out_channels, 3, padding=1)\n",
        "        )\n",
        "\n",
        "    def forward(self, x, t):\n",
        "        # Time embedding\n",
        "        t = t.unsqueeze(-1).type(torch.float)\n",
        "        t = self.time_mlp(t)  # Shape [batch_size, base_channels * 4]\n",
        "        t = t.squeeze(1)  # Remove extra dimension if needed\n",
        "\n",
        "        # Initial features\n",
        "        x0 = self.init_conv(x)  # Shape [batch_size, base_channels, H, W]\n",
        "\n",
        "        # Add time information\n",
        "        t0 = self.time_proj1(t)\n",
        "        t0 = t0.view(t0.shape[0], t0.shape[1], 1, 1)  # Reshape to [batch_size, base_channels, 1, 1]\n",
        "        x0 = x0 + t0\n",
        "\n",
        "        # Downsample\n",
        "        x1 = self.down1(x0)\n",
        "        t1 = self.time_proj2(t)\n",
        "        t1 = t1.view(t1.shape[0], t1.shape[1], 1, 1)\n",
        "        x1 = x1 + t1\n",
        "\n",
        "        x2 = self.down2(x1)\n",
        "        t2 = self.time_proj3(t)\n",
        "        t2 = t2.view(t2.shape[0], t2.shape[1], 1, 1)\n",
        "        x2 = x2 + t2\n",
        "\n",
        "        # Apply attention at 8x8 resolution\n",
        "        x2 = self.attn1(x2)\n",
        "\n",
        "        # New deeper path - downsample to 4x4\n",
        "        x3 = self.down3(x2)\n",
        "        t3 = self.time_proj4(t)\n",
        "        t3 = t3.view(t3.shape[0], t3.shape[1], 1, 1)\n",
        "        x3 = x3 + t3\n",
        "\n",
        "        # Apply attention at 4x4 resolution\n",
        "        x3 = self.attn2(x3)\n",
        "\n",
        "        # Middle\n",
        "        xm = self.middle(x3)\n",
        "        t4 = self.time_proj5(t)\n",
        "        t4 = t4.view(t4.shape[0], t4.shape[1], 1, 1)\n",
        "        xm = xm + t4\n",
        "\n",
        "        # Upsample with skip connections\n",
        "        x_up0 = self.up0(torch.cat([xm, x3], dim=1))\n",
        "        x_up1 = self.up1(torch.cat([x_up0, x2], dim=1))\n",
        "        x_up2 = self.up2(torch.cat([x_up1, x1], dim=1))\n",
        "\n",
        "        # Final\n",
        "        output = self.final(torch.cat([x_up2, x0], dim=1))\n",
        "\n",
        "        return output\n",
        "\n",
        "# Create improved noise scheduler for sampling with DDIM\n",
        "class ImprovedSamplingScheduler:\n",
        "    def __init__(self, timesteps=1000, beta_start=1e-4, beta_end=0.02, device=\"cuda\", ddim_steps=50, ddim_eta=0.0):\n",
        "        \"\"\"Initialize diffusion process parameters with DDIM support.\"\"\"\n",
        "        self.timesteps = timesteps\n",
        "        self.ddim_steps = ddim_steps\n",
        "        self.ddim_eta = ddim_eta\n",
        "        self.ddim_timesteps = torch.linspace(0, timesteps - 1, ddim_steps).long().to(device)\n",
        "        self.ddim_timestep_map = self._get_ddim_timestep_map()\n",
        "\n",
        "        # Define forward process variances (betas)\n",
        "        self.betas = torch.linspace(beta_start, beta_end, timesteps).to(device)\n",
        "\n",
        "        # Calculate alphas and other constants\n",
        "        self.alphas = 1 - self.betas\n",
        "        self.alphas_cumprod = torch.cumprod(self.alphas, dim=0)\n",
        "        self.alphas_cumprod_prev = torch.cat([torch.tensor([1.0]).to(device), self.alphas_cumprod[:-1]])\n",
        "\n",
        "        # For posterior q(x_{t-1} | x_t, x_0)\n",
        "        self.posterior_variance = self.betas * (1 - self.alphas_cumprod_prev) / (1 - self.alphas_cumprod)\n",
        "\n",
        "    def _get_ddim_timestep_map(self):\n",
        "        \"\"\"Get the mapping from ddim step to original diffusion step.\"\"\"\n",
        "        steps = torch.arange(self.timesteps)\n",
        "        return {int(t.item()): i for i, t in enumerate(self.ddim_timesteps)}\n",
        "\n",
        "    def p_sample_ddim(self, model, x_t, t_index):\n",
        "        \"\"\"Single step DDIM sampling.\"\"\"\n",
        "        with torch.no_grad():\n",
        "            t = self.ddim_timesteps[t_index]\n",
        "            next_t = self.ddim_timesteps[min(t_index + 1, len(self.ddim_timesteps) - 1)]\n",
        "\n",
        "            # Use model to predict noise\n",
        "            pred_noise = model(x_t, t.unsqueeze(0).repeat(x_t.shape[0]))\n",
        "\n",
        "            # Extract relevant alphas\n",
        "            alpha_cumprod_t = self.alphas_cumprod[t]\n",
        "            alpha_cumprod_next = self.alphas_cumprod[next_t] if next_t < self.timesteps else torch.tensor(1.0).to(x_t.device)\n",
        "\n",
        "            # Predict original sample\n",
        "            sqrt_recip_alpha_cumprod = (1 / torch.sqrt(alpha_cumprod_t)).view(-1, 1, 1, 1)\n",
        "            sqrt_one_minus_alpha_cumprod = torch.sqrt(1 - alpha_cumprod_t).view(-1, 1, 1, 1)\n",
        "            pred_x0 = (x_t - sqrt_one_minus_alpha_cumprod * pred_noise) * sqrt_recip_alpha_cumprod\n",
        "            pred_x0 = torch.clamp(pred_x0, -1.0, 1.0)\n",
        "\n",
        "            # Direction pointing to x_t\n",
        "            dir_xt = torch.sqrt(1.0 - alpha_cumprod_next).view(-1, 1, 1, 1) * pred_noise\n",
        "\n",
        "            # DDIM formula\n",
        "            x_next = torch.sqrt(alpha_cumprod_next).view(-1, 1, 1, 1) * pred_x0 + dir_xt\n",
        "\n",
        "            # Add noise if eta > 0 (between DDIM and DDPM)\n",
        "            if t_index < len(self.ddim_timesteps) - 1 and self.ddim_eta > 0:\n",
        "                noise = torch.randn_like(x_t)\n",
        "                variance = ((1 - alpha_cumprod_next) / (1 - alpha_cumprod_t) * (1 - alpha_cumprod_t / alpha_cumprod_next)).view(-1, 1, 1, 1)\n",
        "                x_next = x_next + self.ddim_eta * torch.sqrt(variance) * noise\n",
        "\n",
        "            return x_next\n",
        "\n",
        "    def p_sample_loop_ddim(self, model, shape, save_intermediate=False):\n",
        "        \"\"\"DDIM sampling loop.\"\"\"\n",
        "        model.eval()\n",
        "\n",
        "        # Start from pure noise\n",
        "        x = torch.randn(shape).to(DEVICE)\n",
        "\n",
        "        # For storing intermediate results\n",
        "        intermediates = [] if save_intermediate else None\n",
        "        if save_intermediate:\n",
        "            intermediates.append(x.cpu())\n",
        "\n",
        "        # Gradually denoise with DDIM\n",
        "        for i in tqdm(reversed(range(self.ddim_steps)), desc=\"DDIM Sampling\"):\n",
        "            # Free memory occasionally\n",
        "            if i % 10 == 0:\n",
        "                clear_memory()\n",
        "\n",
        "            x = self.p_sample_ddim(model, x, i)\n",
        "\n",
        "            # Save intermediate\n",
        "            if save_intermediate and i % max(1, self.ddim_steps // 10) == 0:\n",
        "                intermediates.append(x.cpu())\n",
        "\n",
        "        if save_intermediate:\n",
        "            return x, intermediates\n",
        "        return x\n",
        "\n",
        "    def p_sample(self, model, x_t, t):\n",
        "        \"\"\"Single step sampling from p(x_{t-1} | x_t).\"\"\"\n",
        "        with torch.no_grad():\n",
        "            # Get model prediction (predicted noise)\n",
        "            pred_noise = model(x_t, t)\n",
        "\n",
        "            # Extract values for the current timestep\n",
        "            alpha = self.alphas[t]\n",
        "            alpha_cumprod = self.alphas_cumprod[t]\n",
        "            alpha_cumprod_prev = self.alphas_cumprod_prev[t]\n",
        "\n",
        "            # Calculate predicted x_0 with proper reshaping\n",
        "            sqrt_recip_alpha_cumprod = (1 / torch.sqrt(alpha_cumprod)).view(-1, 1, 1, 1)\n",
        "            sqrt_one_minus_alpha_cumprod = torch.sqrt(1 - alpha_cumprod).view(-1, 1, 1, 1)\n",
        "\n",
        "            pred_x0 = (x_t - sqrt_one_minus_alpha_cumprod * pred_noise) * sqrt_recip_alpha_cumprod\n",
        "            pred_x0 = torch.clamp(pred_x0, -1.0, 1.0)\n",
        "\n",
        "            # Calculate mean for p(x_{t-1} | x_t) with proper reshaping for all coefficients\n",
        "            coef1_numerator = (self.betas[t] * torch.sqrt(alpha_cumprod_prev)).view(-1, 1, 1, 1)\n",
        "            coef1_denominator = (1 - alpha_cumprod).view(-1, 1, 1, 1)\n",
        "            coef1 = coef1_numerator / coef1_denominator\n",
        "\n",
        "            coef2_numerator = ((1 - alpha_cumprod_prev) * torch.sqrt(alpha)).view(-1, 1, 1, 1)\n",
        "            coef2_denominator = (1 - alpha_cumprod).view(-1, 1, 1, 1)\n",
        "            coef2 = coef2_numerator / coef2_denominator\n",
        "\n",
        "            mean = coef1 * pred_x0 + coef2 * x_t\n",
        "\n",
        "            # Add noise if t > 0, otherwise return the mean\n",
        "            if t[0] > 0:  # Check the first element of t\n",
        "                noise = torch.randn_like(x_t)\n",
        "                var = torch.sqrt(self.posterior_variance[t]).view(-1, 1, 1, 1)\n",
        "                return mean + var * noise\n",
        "            else:\n",
        "                return mean\n",
        "\n",
        "    def p_sample_loop(self, model, shape, save_intermediate=False):\n",
        "        \"\"\"Generate samples using the reverse diffusion process.\"\"\"\n",
        "        model.eval()\n",
        "\n",
        "        # Start from pure noise\n",
        "        x = torch.randn(shape).to(DEVICE)\n",
        "\n",
        "        # For storing intermediate results\n",
        "        intermediates = [] if save_intermediate else None\n",
        "        if save_intermediate:\n",
        "            intermediates.append(x.cpu())\n",
        "\n",
        "        # Gradually denoise\n",
        "        for t_idx in tqdm(reversed(range(self.timesteps)), desc=\"DDPM Sampling\"):\n",
        "            # Use a single timestep for all batch elements\n",
        "            t = torch.full((shape[0],), t_idx, device=DEVICE, dtype=torch.long)\n",
        "\n",
        "            # Free memory before each step\n",
        "            if t_idx % 100 == 0:\n",
        "                clear_memory()\n",
        "\n",
        "            # Sample\n",
        "            x = self.p_sample(model, x, t)\n",
        "\n",
        "            # Save intermediate\n",
        "            if save_intermediate and t_idx % 100 == 0:\n",
        "                intermediates.append(x.cpu())\n",
        "\n",
        "        if save_intermediate:\n",
        "            return x, intermediates\n",
        "        return x\n",
        "\n",
        "def load_model_for_sampling():\n",
        "    \"\"\"Load model from checkpoint for sampling.\"\"\"\n",
        "    if not os.path.exists(CHECKPOINT_PATH):\n",
        "        # Fall back to regular checkpoint if best model doesn't exist\n",
        "        alternative_path = \"diffusion_checkpoint.pt\"\n",
        "        if os.path.exists(alternative_path):\n",
        "            print(f\"Best model not found, using {alternative_path} instead\")\n",
        "            checkpoint_path = alternative_path\n",
        "        else:\n",
        "            raise FileNotFoundError(f\"Checkpoint files not found!\")\n",
        "    else:\n",
        "        checkpoint_path = CHECKPOINT_PATH\n",
        "\n",
        "    # Load checkpoint\n",
        "    checkpoint = torch.load(checkpoint_path)\n",
        "\n",
        "    # Get model parameters\n",
        "    model_params = checkpoint.get(\"model_params\", {\n",
        "        \"in_channels\": 3,\n",
        "        \"out_channels\": 3,\n",
        "        \"base_channels\": BASE_CHANNELS\n",
        "    })\n",
        "\n",
        "    # Create model\n",
        "    model = ImprovedUNet(\n",
        "        in_channels=model_params[\"in_channels\"],\n",
        "        out_channels=model_params[\"out_channels\"],\n",
        "        base_channels=model_params[\"base_channels\"]\n",
        "    ).to(DEVICE)\n",
        "\n",
        "    # Load weights - prefer EMA model weights if available\n",
        "    if \"ema_model_state_dict\" in checkpoint:\n",
        "        model.load_state_dict(checkpoint[\"ema_model_state_dict\"])\n",
        "        print(\"Using EMA model weights for sampling\")\n",
        "    else:\n",
        "        model.load_state_dict(checkpoint[\"model_state_dict\"])\n",
        "        print(\"Using regular model weights for sampling\")\n",
        "\n",
        "    # Get scheduler parameters\n",
        "    scheduler_params = checkpoint.get(\"scheduler_params\", {\n",
        "        \"timesteps\": 1000,\n",
        "        \"beta_start\": 1e-4,\n",
        "        \"beta_end\": 0.02\n",
        "    })\n",
        "\n",
        "    # Create improved scheduler with DDIM support\n",
        "    scheduler = ImprovedSamplingScheduler(\n",
        "        timesteps=scheduler_params[\"timesteps\"],\n",
        "        beta_start=scheduler_params[\"beta_start\"],\n",
        "        beta_end=scheduler_params[\"beta_end\"],\n",
        "        device=DEVICE,\n",
        "        ddim_steps=50  # Use 50 steps for faster sampling\n",
        "    )\n",
        "\n",
        "    return model, scheduler, checkpoint[\"epoch\"]\n",
        "\n",
        "def generate_samples(save_dir=\"samples\", num_samples=8, save_intermediate=False, use_ddim=True):\n",
        "    \"\"\"Generate samples from trained model.\"\"\"\n",
        "    global SAMPLE_BATCH_SIZE  # Use the global variable\n",
        "\n",
        "    os.makedirs(save_dir, exist_ok=True)\n",
        "\n",
        "    # Load model\n",
        "    model, scheduler, epoch = load_model_for_sampling()\n",
        "    print(f\"Loaded model from epoch {epoch}\")\n",
        "\n",
        "    # Free memory before sampling\n",
        "    clear_memory()\n",
        "\n",
        "    # Generate samples in small batches\n",
        "    all_samples = []\n",
        "    remaining = num_samples\n",
        "\n",
        "    while remaining > 0:\n",
        "        try:\n",
        "            batch_size = min(SAMPLE_BATCH_SIZE, remaining)\n",
        "            print(f\"Generating batch of {batch_size} samples\")\n",
        "\n",
        "            if save_intermediate:\n",
        "                if use_ddim:\n",
        "                    samples, intermediates = scheduler.p_sample_loop_ddim(\n",
        "                        model,\n",
        "                        shape=(batch_size, 3, 32, 32),\n",
        "                        save_intermediate=True\n",
        "                    )\n",
        "                else:\n",
        "                    samples, intermediates = scheduler.p_sample_loop(\n",
        "                        model,\n",
        "                        shape=(batch_size, 3, 32, 32),\n",
        "                        save_intermediate=True\n",
        "                    )\n",
        "                # Save intermediate samples for visualization\n",
        "                visualize_diffusion_process(intermediates, f\"{save_dir}/diffusion_process{'_ddim' if use_ddim else ''}.png\")\n",
        "            else:\n",
        "                if use_ddim:\n",
        "                    samples = scheduler.p_sample_loop_ddim(\n",
        "                        model,\n",
        "                        shape=(batch_size, 3, 32, 32),\n",
        "                        save_intermediate=False\n",
        "                    )\n",
        "                else:\n",
        "                    samples = scheduler.p_sample_loop(\n",
        "                        model,\n",
        "                        shape=(batch_size, 3, 32, 32),\n",
        "                        save_intermediate=False\n",
        "                    )\n",
        "\n",
        "            all_samples.append(samples.cpu())\n",
        "            remaining -= batch_size\n",
        "\n",
        "            # Clear memory after each batch\n",
        "            clear_memory()\n",
        "\n",
        "        except RuntimeError as e:\n",
        "            if \"out of memory\" in str(e).lower():\n",
        "                # Reduce batch size and try again\n",
        "                SAMPLE_BATCH_SIZE = max(1, SAMPLE_BATCH_SIZE // 2)\n",
        "                print(f\"OOM error, reducing batch size to {SAMPLE_BATCH_SIZE}\")\n",
        "                clear_memory()\n",
        "            else:\n",
        "                raise e\n",
        "\n",
        "    # Combine all samples\n",
        "    samples = torch.cat(all_samples, dim=0)\n",
        "\n",
        "    # Denormalize images\n",
        "    samples = (samples + 1) / 2  # Scale from [-1, 1] to [0, 1]\n",
        "\n",
        "    # Create grid and save\n",
        "    grid = torchvision.utils.make_grid(samples, nrow=4)\n",
        "    output_path = f\"{save_dir}/final_samples_epoch_{epoch}{'_ddim' if use_ddim else ''}.png\"\n",
        "    torchvision.utils.save_image(grid, output_path)\n",
        "\n",
        "    print(f\"Generated {num_samples} samples saved to {output_path}\")\n",
        "    return samples\n",
        "\n",
        "def visualize_diffusion_process(intermediate_samples, save_path):\n",
        "    \"\"\"Visualize the diffusion process using intermediate samples.\"\"\"\n",
        "    # Select a few timesteps to visualize\n",
        "    fig, ax = plt.subplots(1, len(intermediate_samples), figsize=(20, 4))\n",
        "\n",
        "    for i, samples in enumerate(intermediate_samples):\n",
        "        # Take the first image from each batch\n",
        "        img = samples[0].permute(1, 2, 0).numpy()\n",
        "        img = (img + 1) / 2  # Denormalize\n",
        "        img = np.clip(img, 0, 1)\n",
        "\n",
        "        if len(intermediate_samples) > 1:\n",
        "            ax[i].imshow(img)\n",
        "            ax[i].set_title(f\"Step {i * (1000 // (len(intermediate_samples)-1))}\" if i > 0 else \"Noise\")\n",
        "            ax[i].axis('off')\n",
        "        else:\n",
        "            ax.imshow(img)\n",
        "            ax.set_title(f\"Step {i}\")\n",
        "            ax.axis('off')\n",
        "\n",
        "    plt.tight_layout()\n",
        "    plt.savefig(save_path)\n",
        "    plt.close()\n",
        "\n",
        "# Run sampling\n",
        "if __name__ == \"__main__\":\n",
        "    # Clear memory before starting\n",
        "    clear_memory()\n",
        "\n",
        "    # Generate samples\n",
        "    try:\n",
        "        # First try with more samples using DDIM for faster sampling\n",
        "        generate_samples(num_samples=16, save_intermediate=True, use_ddim=True)\n",
        "\n",
        "        # Also generate samples with regular DDPM for comparison\n",
        "        generate_samples(num_samples=4, save_intermediate=True, use_ddim=False)\n",
        "    except RuntimeError as e:\n",
        "        if \"out of memory\" in str(e).lower():\n",
        "            # Fall back to fewer samples\n",
        "            clear_memory()\n",
        "            print(\"Retrying with fewer samples...\")\n",
        "            generate_samples(num_samples=4, save_intermediate=False, use_ddim=True)\n",
        "        else:\n",
        "            raise e"
      ]
    },
    {
      "cell_type": "code",
      "execution_count": null,
      "metadata": {
        "colab": {
          "background_save": true
        },
        "id": "ud3MZkzc4mze",
        "outputId": "c73b7c6f-c26c-4abd-eee1-a47941e6e08c"
      },
      "outputs": [
        {
          "ename": "ValueError",
          "evalue": "mount failed",
          "output_type": "error",
          "traceback": [
            "\u001b[0;31m---------------------------------------------------------------------------\u001b[0m",
            "\u001b[0;31mValueError\u001b[0m                                Traceback (most recent call last)",
            "\u001b[0;32m<ipython-input-3-d5df0069828e>\u001b[0m in \u001b[0;36m<cell line: 0>\u001b[0;34m()\u001b[0m\n\u001b[1;32m      1\u001b[0m \u001b[0;32mfrom\u001b[0m \u001b[0mgoogle\u001b[0m\u001b[0;34m.\u001b[0m\u001b[0mcolab\u001b[0m \u001b[0;32mimport\u001b[0m \u001b[0mdrive\u001b[0m\u001b[0;34m\u001b[0m\u001b[0;34m\u001b[0m\u001b[0m\n\u001b[0;32m----> 2\u001b[0;31m \u001b[0mdrive\u001b[0m\u001b[0;34m.\u001b[0m\u001b[0mmount\u001b[0m\u001b[0;34m(\u001b[0m\u001b[0;34m'/content/drive'\u001b[0m\u001b[0;34m)\u001b[0m\u001b[0;34m\u001b[0m\u001b[0;34m\u001b[0m\u001b[0m\n\u001b[0m",
            "\u001b[0;32m/usr/local/lib/python3.11/dist-packages/google/colab/drive.py\u001b[0m in \u001b[0;36mmount\u001b[0;34m(mountpoint, force_remount, timeout_ms, readonly)\u001b[0m\n\u001b[1;32m     98\u001b[0m \u001b[0;32mdef\u001b[0m \u001b[0mmount\u001b[0m\u001b[0;34m(\u001b[0m\u001b[0mmountpoint\u001b[0m\u001b[0;34m,\u001b[0m \u001b[0mforce_remount\u001b[0m\u001b[0;34m=\u001b[0m\u001b[0;32mFalse\u001b[0m\u001b[0;34m,\u001b[0m \u001b[0mtimeout_ms\u001b[0m\u001b[0;34m=\u001b[0m\u001b[0;36m120000\u001b[0m\u001b[0;34m,\u001b[0m \u001b[0mreadonly\u001b[0m\u001b[0;34m=\u001b[0m\u001b[0;32mFalse\u001b[0m\u001b[0;34m)\u001b[0m\u001b[0;34m:\u001b[0m\u001b[0;34m\u001b[0m\u001b[0;34m\u001b[0m\u001b[0m\n\u001b[1;32m     99\u001b[0m   \u001b[0;34m\"\"\"Mount your Google Drive at the specified mountpoint path.\"\"\"\u001b[0m\u001b[0;34m\u001b[0m\u001b[0;34m\u001b[0m\u001b[0m\n\u001b[0;32m--> 100\u001b[0;31m   return _mount(\n\u001b[0m\u001b[1;32m    101\u001b[0m       \u001b[0mmountpoint\u001b[0m\u001b[0;34m,\u001b[0m\u001b[0;34m\u001b[0m\u001b[0;34m\u001b[0m\u001b[0m\n\u001b[1;32m    102\u001b[0m       \u001b[0mforce_remount\u001b[0m\u001b[0;34m=\u001b[0m\u001b[0mforce_remount\u001b[0m\u001b[0;34m,\u001b[0m\u001b[0;34m\u001b[0m\u001b[0;34m\u001b[0m\u001b[0m\n",
            "\u001b[0;32m/usr/local/lib/python3.11/dist-packages/google/colab/drive.py\u001b[0m in \u001b[0;36m_mount\u001b[0;34m(mountpoint, force_remount, timeout_ms, ephemeral, readonly)\u001b[0m\n\u001b[1;32m    277\u001b[0m             \u001b[0;34m'https://research.google.com/colaboratory/faq.html#drive-timeout'\u001b[0m\u001b[0;34m\u001b[0m\u001b[0;34m\u001b[0m\u001b[0m\n\u001b[1;32m    278\u001b[0m         )\n\u001b[0;32m--> 279\u001b[0;31m       \u001b[0;32mraise\u001b[0m \u001b[0mValueError\u001b[0m\u001b[0;34m(\u001b[0m\u001b[0;34m'mount failed'\u001b[0m \u001b[0;34m+\u001b[0m \u001b[0mextra_reason\u001b[0m\u001b[0;34m)\u001b[0m\u001b[0;34m\u001b[0m\u001b[0;34m\u001b[0m\u001b[0m\n\u001b[0m\u001b[1;32m    280\u001b[0m     \u001b[0;32melif\u001b[0m \u001b[0mcase\u001b[0m \u001b[0;34m==\u001b[0m \u001b[0;36m4\u001b[0m\u001b[0;34m:\u001b[0m\u001b[0;34m\u001b[0m\u001b[0;34m\u001b[0m\u001b[0m\n\u001b[1;32m    281\u001b[0m       \u001b[0;31m# Terminate the DriveFS binary before killing bash.\u001b[0m\u001b[0;34m\u001b[0m\u001b[0;34m\u001b[0m\u001b[0m\n",
            "\u001b[0;31mValueError\u001b[0m: mount failed"
          ]
        }
      ],
      "source": [
        "from google.colab import drive\n",
        "drive.mount('/content/drive')"
      ]
    }
  ],
  "metadata": {
    "accelerator": "GPU",
    "colab": {
      "gpuType": "A100",
      "machine_shape": "hm",
      "provenance": []
    },
    "kernelspec": {
      "display_name": "Python 3",
      "name": "python3"
    },
    "language_info": {
      "name": "python"
    }
  },
  "nbformat": 4,
  "nbformat_minor": 0
}